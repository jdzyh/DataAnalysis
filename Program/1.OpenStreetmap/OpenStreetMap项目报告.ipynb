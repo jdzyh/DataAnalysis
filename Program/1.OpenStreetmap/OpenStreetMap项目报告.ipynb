{
 "cells": [
  {
   "cell_type": "markdown",
   "metadata": {},
   "source": [
    "# 地图区域"
   ]
  },
  {
   "cell_type": "markdown",
   "metadata": {},
   "source": [
    "地图范围：\n",
    "中国，上海\n",
    "\n",
    "主要选取了西至虹桥机场，东至浦东机场的范围。\n",
    "\n",
    "下载地址：\n",
    "http://overpass-api.de/api/map?bbox=121.2869,31.1176,121.6434,31.2915"
   ]
  },
  {
   "cell_type": "markdown",
   "metadata": {},
   "source": [
    "# 数据清洗过程中碰到的问题"
   ]
  },
  {
   "cell_type": "markdown",
   "metadata": {},
   "source": [
    "1.tags邮政编码(key=postcode)部分：应该是6位数字，实际情况存在中文、或是数字位数不对的情况。\n",
    "2.tags中的value中描述部分存在特殊字符（图像类字符）\n",
    "3.tags电话(type=phone)部分：存在多个电话、不同格式"
   ]
  },
  {
   "cell_type": "markdown",
   "metadata": {},
   "source": [
    "## 1. 邮政编码问题"
   ]
  },
  {
   "cell_type": "code",
   "execution_count": null,
   "metadata": {
    "collapsed": true
   },
   "outputs": [],
   "source": [
    "SELECT tags.value, COUNT(*) as count\n",
    "FROM ( SELECT * FROM nodes_tags\n",
    "  UNION ALL\n",
    " SELECT * FROM ways_tags \n",
    "  UNION ALL\n",
    " SELECT * FROM rel_tags) tags\n",
    "WHERE tags.key='postcode'\n",
    "GROUP BY tags.value\n",
    "ORDER BY count DESC;"
   ]
  },
  {
   "cell_type": "code",
   "execution_count": null,
   "metadata": {
    "collapsed": true
   },
   "outputs": [],
   "source": [
    "select t.`key`, t.`value` from (select * from nodes_tags union all select * from ways_tags union all select * from rel_tags) t where t.`key`='phone';\n",
    "\n",
    "862122163900\n",
    "+86 6361 2898\n",
    "021-63914848, 021-63522222\n",
    "+86 21 38809988\n",
    "2164312091\n",
    "86-21-50559888\n",
    "+2147483647\n",
    "+862164712821\n",
    "+18 13621675140\n",
    "02162883030\n",
    "+86-21-5160-7888\n",
    "+86 138 1609 3747\n",
    "(021) 3356-3996\n",
    "021-63779282\n",
    "+86 (0)21-68778787"
   ]
  }
 ],
 "metadata": {
  "kernelspec": {
   "display_name": "Python 3",
   "language": "python",
   "name": "python3"
  },
  "language_info": {
   "codemirror_mode": {
    "name": "ipython",
    "version": 3
   },
   "file_extension": ".py",
   "mimetype": "text/x-python",
   "name": "python",
   "nbconvert_exporter": "python",
   "pygments_lexer": "ipython3",
   "version": "3.6.0"
  }
 },
 "nbformat": 4,
 "nbformat_minor": 2
}
