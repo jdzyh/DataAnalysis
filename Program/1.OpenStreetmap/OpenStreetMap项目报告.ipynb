{
 "cells": [
  {
   "cell_type": "markdown",
   "metadata": {},
   "source": [
    "# OpenStreetMap项目报告"
   ]
  },
  {
   "cell_type": "markdown",
   "metadata": {},
   "source": [
    "# 1. 地图区域"
   ]
  },
  {
   "cell_type": "markdown",
   "metadata": {},
   "source": [
    "地图范围：\n",
    "中国，上海\n",
    "\n",
    "主要选取了西至虹桥机场，东至浦东机场的范围。\n",
    "\n",
    "下载地址：\n",
    "http://overpass-api.de/api/map?bbox=121.2869,31.1176,121.6434,31.2915"
   ]
  },
  {
   "cell_type": "markdown",
   "metadata": {},
   "source": [
    "# 2. 数据清洗过程中碰到的问题"
   ]
  },
  {
   "cell_type": "markdown",
   "metadata": {},
   "source": [
    "1.tags类型的节点中，邮政编码(key='postcode')的value部分：应该是6位数字，实际情况存在中文、或是数字位数不对的情况。\n",
    "\n",
    "2.tags类型的节点中，value中存在特殊字符，无法导入数据库。\n",
    "\n",
    "3.tags类型的节点中，电话(key='phone')的value部分，存在以下几种情况：  \n",
    "(a)多个电话、或是分机号  \n",
    "(b)不同格式(未必包含+86、未必包含+021、021写成21、是否包含'-'号的分隔符等）  \n",
    "(c)不同类型的电话类型（手机号、固话、400电话、五位全国通用电话等)\n"
   ]
  },
  {
   "cell_type": "markdown",
   "metadata": {},
   "source": [
    "## 2.1. 邮政编码问题"
   ]
  },
  {
   "cell_type": "markdown",
   "metadata": {},
   "source": [
    "国内统一的邮政编码位数为6位数字，因此考虑数据清洗时去除其他不匹配的情况。"
   ]
  },
  {
   "cell_type": "code",
   "execution_count": null,
   "metadata": {
    "collapsed": true
   },
   "outputs": [],
   "source": [
    "SELECT tags.value, COUNT(*) as count\n",
    "FROM ( SELECT * FROM nodes_tags\n",
    "  UNION ALL\n",
    " SELECT * FROM ways_tags \n",
    "  UNION ALL\n",
    " SELECT * FROM rel_tags) tags\n",
    "WHERE tags.key='postcode'\n",
    "GROUP BY tags.value\n",
    "ORDER BY count DESC;"
   ]
  },
  {
   "cell_type": "code",
   "execution_count": null,
   "metadata": {
    "collapsed": true
   },
   "outputs": [],
   "source": [
    "#用于去除错误邮编\n",
    "REGULAR_POSTCODE =re.compile(r'^[0-9]{6}$')\n",
    "def is_postcode(src_postcode, regular_postcode=REGULAR_POSTCODE):\n",
    "    postcode = re.search(regular_postcode, src_postcode)\n",
    "    if postcode:\n",
    "        return True\n",
    "    else:\n",
    "        return False"
   ]
  },
  {
   "cell_type": "markdown",
   "metadata": {},
   "source": [
    "执行后显示剔除如下情况的错误格式：  \n",
    "错误的邮编格式{'value': '2000080', 'key': 'postcode', 'type': 'addr', 'id': '4364315493'}  \n",
    "错误的邮编格式{'value': '201315 上海', 'key': 'postcode', 'type': 'addr', 'id': '148014167'}   \n",
    "错误的邮编格式{'value': '201315 上海', 'key': 'postcode', 'type': 'addr', 'id': '148014201'}  \n",
    "错误的邮编格式{'value': '2000080', 'key': 'postcode', 'type': 'addr', 'id': '293504473'}  \n",
    "错误的邮编格式{'value': '20032', 'key': 'postcode', 'type': 'addr', 'id': '307449542'}  \n",
    "错误的邮编格式{'value': '20032', 'key': 'postcode', 'type': 'addr', 'id': '307455604'}  "
   ]
  },
  {
   "cell_type": "markdown",
   "metadata": {},
   "source": [
    "## 2.2 value中存在不可导入数据库的特殊字符"
   ]
  },
  {
   "cell_type": "markdown",
   "metadata": {},
   "source": [
    "在导入数据库过程中，导入语句报错提示：“ 存在特殊字符：\\xF0\\x9F\\x93\\xAE for column 'value ”  \n",
    "使用notepadd++中的字符转换功能，转换后的字符为：📮  ，在map文件中查找定位到邮局的nodes_tags, 推测是用户输入时复制图像进入到文本框内。\n",
    "考虑对tags相关的csv文件中的value字段进行一次扫描，去除坏字符。"
   ]
  },
  {
   "cell_type": "code",
   "execution_count": 1,
   "metadata": {
    "collapsed": true
   },
   "outputs": [],
   "source": [
    "#用于替换value字段内的奇怪字符\n",
    "VALUE_REPLACE_CHARS = '📮'\n",
    "def reject_bad_chars_of_value(src_string, badchars=VALUE_REPLACE_CHARS):\n",
    "    result = re.sub(badchars, \"\", src_string)\n",
    "    return result"
   ]
  },
  {
   "cell_type": "markdown",
   "metadata": {},
   "source": [
    "执行后再次导入数据成功。"
   ]
  },
  {
   "cell_type": "markdown",
   "metadata": {},
   "source": [
    "## 2.3 调整电话格式"
   ]
  },
  {
   "cell_type": "markdown",
   "metadata": {},
   "source": [
    "地图中的电话标记存在很多问题，没有进行统一的格式化输入。  \n",
    "问题包括：  \n",
    "(a)一个电话标签确有多个电话（分隔符是用户自定的）、或电话标签内包含分机号；  \n",
    "(b)不规范的格式输入，包括多钟格式：未必包含+86、未必包含+021、021写成21、包含'-'号的分隔符等；  \n",
    "(c)不同类型的电话类型（手机号、固话、400电话、五位全国通用电话等)。  \n",
    "\n",
    "用下述SQL语句查询得到电话的一些例子："
   ]
  },
  {
   "cell_type": "code",
   "execution_count": null,
   "metadata": {
    "collapsed": true
   },
   "outputs": [],
   "source": [
    "select t.`key`, t.`value` \n",
    "from (select * from nodes_tags union all select * from ways_tags union all select * from rel_tags) t \n",
    "where t.`key`='phone';"
   ]
  },
  {
   "cell_type": "markdown",
   "metadata": {},
   "source": [
    "862122163900  \n",
    "+86 6361 2898  \n",
    "021-63914848, 021-63522222  \n",
    "+86 21 38809988  \n",
    "2164312091  \n",
    "86-21-50559888  \n",
    "+2147483647  \n",
    "+862164712821  \n",
    "+18 13621675140  \n",
    "02162883030  \n",
    "+86-21-5160-7888  \n",
    "+86 138 1609 3747  \n",
    "(021) 3356-3996  \n",
    "021-63779282  \n",
    "+86 (0)21-68778787  "
   ]
  },
  {
   "cell_type": "markdown",
   "metadata": {},
   "source": [
    "分析后，考虑分为三步处理：  \n",
    "1.去除数字中的所有格式（空格，+号，-号，括号）；  \n",
    "2.正则匹配，去除国家号与城市号，获取纯粹的的电话号码（8位固话，11位手机号，7位400电话，5位全国通用电话）；  \n",
    "3.生成正规格式的电话。(分为固话、手机号、400电话、全国通用电话等类型)  \n",
    "\n",
    "使用的处理函数如下："
   ]
  },
  {
   "cell_type": "code",
   "execution_count": null,
   "metadata": {
    "collapsed": true
   },
   "outputs": [],
   "source": [
    "#用于规范电话的格式\n",
    "#如果校验通过，返回正确格式的电话，否则返回空字符串\n",
    "REGULER_PHONE = re.compile(r'^(86)?(021|21)?([0-9]{8}|[0-9]{11}|400[0-9]{7}|[0-9]{5})$')\n",
    "def audit_phone(src_phone, regular_phone=REGULER_PHONE):\n",
    "    new_phone = re.sub(r'[+ \\-()]', '', src_phone)\n",
    "    phone = re.search(regular_phone, new_phone)\n",
    "    if phone:\n",
    "        phone_num = phone.group(3)\n",
    "        phone_type = len(phone_num)\n",
    "        #固话\n",
    "        if phone_type==8:\n",
    "            return '+86-021-' + phone_num\n",
    "        #手机\n",
    "        elif phone_type==11:\n",
    "            return '+86-' + phone_num\n",
    "        #400电话\n",
    "        elif phone_type==10:\n",
    "            return '+86-' + phone_num\n",
    "        #全国通用电话\n",
    "        elif phone_type==5:\n",
    "            return '+86-' + phone_num\n",
    "        else:\n",
    "            return ''\n",
    "    else:\n",
    "        return ''"
   ]
  },
  {
   "cell_type": "markdown",
   "metadata": {},
   "source": [
    "执行后显示剔除如下情况的错误格式：  \n",
    "错误的电话格式OrderedDict([('id', '477661623'), ('key', 'phone'), ('value', '021-63914848, 021-63522222'), ('type', 'regular')])  \n",
    "错误的电话格式OrderedDict([('id', '2345419578'), ('key', 'phone'), ('value', '+18 13621675140'), ('type', 'regular')])  \n",
    "错误的电话格式OrderedDict([('id', '3609090494'), ('key', 'phone'), ('value', '+86 8621 5118 1222'), ('type', 'regular')])  \n",
    "错误的电话格式OrderedDict([('id', '159787864'), ('key', 'phone'), ('value', '8008103088'), ('type', 'regular')])  \n",
    "错误的电话格式OrderedDict([('id', '293862126'), ('key', 'phone'), ('value', '+86 21 64874095*208'), ('type', 'regular')])  \n",
    "错误的电话格式OrderedDict([('id', '376223385'), ('key', 'phone'), ('value', '0862162838711'), ('type', 'regular')])  \n",
    "错误的电话格式OrderedDict([('id', '392578179'), ('key', 'phone'), ('value', '(+86)21/52068000'), ('type', 'regular')])  \n"
   ]
  },
  {
   "cell_type": "markdown",
   "metadata": {
    "collapsed": true
   },
   "source": [
    "# 3. 数据集的概述统计"
   ]
  },
  {
   "cell_type": "markdown",
   "metadata": {},
   "source": [
    "## 3.1 文件大小"
   ]
  },
  {
   "cell_type": "markdown",
   "metadata": {},
   "source": [
    "<img src=\"./file_size.jpg\" style=\"width:250px;height:200px;float:left\">"
   ]
  },
  {
   "cell_type": "markdown",
   "metadata": {},
   "source": [
    "## 3.2 唯一用户数量"
   ]
  },
  {
   "cell_type": "markdown",
   "metadata": {},
   "source": []
  },
  {
   "cell_type": "markdown",
   "metadata": {},
   "source": [
    "## 3.3 node, way, relation的数量"
   ]
  },
  {
   "cell_type": "markdown",
   "metadata": {},
   "source": []
  },
  {
   "cell_type": "markdown",
   "metadata": {},
   "source": [
    "## 3.4 其他节点类型数量统计"
   ]
  },
  {
   "cell_type": "markdown",
   "metadata": {},
   "source": []
  },
  {
   "cell_type": "markdown",
   "metadata": {},
   "source": [
    "# 4. 额外的改进建议"
   ]
  },
  {
   "cell_type": "markdown",
   "metadata": {},
   "source": [
    "## 4.1 改进、分析数据的建议"
   ]
  },
  {
   "cell_type": "markdown",
   "metadata": {},
   "source": [
    "审计过程中的一些不规范格式输入、特殊字符等情况，其实可以通过在页面前端的输入部分进行格式校验与控制。比如标签值限制输入中英文字符、数字、和其他常用字符"
   ]
  },
  {
   "cell_type": "markdown",
   "metadata": {},
   "source": [
    "## 4.2 实施改进的益处与问题"
   ]
  },
  {
   "cell_type": "markdown",
   "metadata": {},
   "source": []
  },
  {
   "cell_type": "markdown",
   "metadata": {},
   "source": [
    "# 5. 项目总结"
   ]
  },
  {
   "cell_type": "markdown",
   "metadata": {},
   "source": []
  },
  {
   "cell_type": "markdown",
   "metadata": {},
   "source": [
    "# 6.参考链接 "
   ]
  },
  {
   "cell_type": "markdown",
   "metadata": {},
   "source": [
    "CSV文件处理：  \n",
    "http://blog.csdn.net/ko_tin/article/details/72627266  \n",
    "http://blog.csdn.net/huitailang1991/article/details/54946528  \n",
    "\n",
    "正则匹配：  \n",
    "https://docs.python.org/2/library/re.html  \n",
    "\n",
    "Cerberus库：  \n",
    "http://docs.python-cerberus.org/en/stable/  \n",
    "\n",
    "数据库相关问题：  \n",
    "http://blog.csdn.net/u013063153/article/details/53304261  \n",
    "http://blog.csdn.net/gvfdbdf/article/details/49455381  \n",
    "http://bbs.csdn.net/topics/390661358  \n",
    "https://stackoverflow.com/questions/6621530/1264-out-of-range-value-fix  \n",
    "http://www.oschina.net/question/1165991_2200405  \n",
    "http://blog.csdn.net/a14206149/article/details/35991455  \n"
   ]
  }
 ],
 "metadata": {
  "kernelspec": {
   "display_name": "Python 3",
   "language": "python",
   "name": "python3"
  },
  "language_info": {
   "codemirror_mode": {
    "name": "ipython",
    "version": 3
   },
   "file_extension": ".py",
   "mimetype": "text/x-python",
   "name": "python",
   "nbconvert_exporter": "python",
   "pygments_lexer": "ipython3",
   "version": "3.6.0"
  }
 },
 "nbformat": 4,
 "nbformat_minor": 2
}
