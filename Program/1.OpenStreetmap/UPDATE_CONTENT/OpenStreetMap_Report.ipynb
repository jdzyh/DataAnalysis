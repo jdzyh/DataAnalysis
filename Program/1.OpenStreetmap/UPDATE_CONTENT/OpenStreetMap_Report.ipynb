{
 "cells": [
  {
   "cell_type": "markdown",
   "metadata": {},
   "source": [
    "# OpenStreetMap项目报告"
   ]
  },
  {
   "cell_type": "markdown",
   "metadata": {},
   "source": [
    "# 1. 地图区域"
   ]
  },
  {
   "cell_type": "markdown",
   "metadata": {},
   "source": [
    "地图范围：\n",
    "中国，上海\n",
    "\n",
    "主要选取了西至虹桥机场，东至浦东机场的范围。\n",
    "\n",
    "下载地址：\n",
    "http://overpass-api.de/api/map?bbox=121.2869,31.1176,121.6434,31.2915"
   ]
  },
  {
   "cell_type": "markdown",
   "metadata": {},
   "source": [
    "# 2. 数据清洗过程中碰到的问题"
   ]
  },
  {
   "cell_type": "markdown",
   "metadata": {},
   "source": [
    "1.tags类型的节点中，邮政编码(key='postcode')的value部分：应该是6位数字，实际情况存在中文、或是数字位数不对的情况。\n",
    "\n",
    "2.tags类型的节点中，value中存在特殊字符，无法导入数据库。\n",
    "\n",
    "3.tags类型的节点中，电话(key='phone')的value部分，存在以下几种情况：  \n",
    "(a)多个电话、或是分机号  \n",
    "(b)不同格式(未必包含+86、未必包含+021、021写成21、是否包含'-'号的分隔符等）  \n",
    "(c)不同类型的电话类型（手机号、固话、400电话、五位全国通用电话等)\n"
   ]
  },
  {
   "cell_type": "markdown",
   "metadata": {},
   "source": [
    "## 2.1. 邮政编码问题"
   ]
  },
  {
   "cell_type": "markdown",
   "metadata": {},
   "source": [
    "国内统一的邮政编码位数为6位数字，因此考虑数据清洗时去除其他不匹配的情况。"
   ]
  },
  {
   "cell_type": "code",
   "execution_count": null,
   "metadata": {
    "collapsed": true
   },
   "outputs": [],
   "source": [
    "#用于去除错误邮编\n",
    "REGULAR_POSTCODE =re.compile(r'^[0-9]{6}$')\n",
    "def is_postcode(src_postcode, regular_postcode=REGULAR_POSTCODE):\n",
    "    postcode = re.search(regular_postcode, src_postcode)\n",
    "    if postcode:\n",
    "        return True\n",
    "    else:\n",
    "        return False"
   ]
  },
  {
   "cell_type": "markdown",
   "metadata": {},
   "source": [
    "执行后显示剔除如下情况的错误格式：  \n",
    "错误的邮编格式{'value': '2000080', 'key': 'postcode', 'type': 'addr', 'id': '4364315493'}  \n",
    "错误的邮编格式{'value': '201315 上海', 'key': 'postcode', 'type': 'addr', 'id': '148014167'}   \n",
    "错误的邮编格式{'value': '201315 上海', 'key': 'postcode', 'type': 'addr', 'id': '148014201'}  \n",
    "错误的邮编格式{'value': '2000080', 'key': 'postcode', 'type': 'addr', 'id': '293504473'}  \n",
    "错误的邮编格式{'value': '20032', 'key': 'postcode', 'type': 'addr', 'id': '307449542'}  \n",
    "错误的邮编格式{'value': '20032', 'key': 'postcode', 'type': 'addr', 'id': '307455604'}  "
   ]
  },
  {
   "cell_type": "markdown",
   "metadata": {},
   "source": [
    "剔除错误格式后再次查询邮政编码："
   ]
  },
  {
   "cell_type": "code",
   "execution_count": null,
   "metadata": {
    "collapsed": true
   },
   "outputs": [],
   "source": [
    "SELECT tags.value, COUNT(*) as count\n",
    "FROM ( SELECT * FROM nodes_tags\n",
    "  UNION ALL\n",
    " SELECT * FROM ways_tags \n",
    "  UNION ALL\n",
    " SELECT * FROM rel_tags) tags\n",
    "WHERE tags.key='postcode'\n",
    "GROUP BY tags.value\n",
    "ORDER BY count DESC limit 10;"
   ]
  },
  {
   "cell_type": "markdown",
   "metadata": {},
   "source": [
    "|value|count|  \n",
    "| - | :-: | -: |\n",
    "|201203|48|\n",
    "|201315|34|\n",
    "|200231|25|\n",
    "|200120|13|\n",
    "|200040|11|\n",
    "|200050|10|\n",
    "|200032|9|\n",
    "|200031|9|\n",
    "|200135|8|\n",
    "|201206|8|"
   ]
  },
  {
   "cell_type": "markdown",
   "metadata": {},
   "source": [
    "## 2.2 value中存在不可导入数据库的特殊字符"
   ]
  },
  {
   "cell_type": "markdown",
   "metadata": {},
   "source": [
    "在导入数据库过程中，导入语句报错提示：“ 存在特殊字符：\\xF0\\x9F\\x93\\xAE for column 'value ”  \n",
    "使用notepadd++中的字符转换功能，转换后的字符为：📮  ，在map文件中查找定位到邮局的nodes_tags, 推测是用户输入时复制图像进入到文本框内。\n",
    "考虑对tags相关的csv文件中的value字段进行一次扫描，去除坏字符。"
   ]
  },
  {
   "cell_type": "code",
   "execution_count": 1,
   "metadata": {
    "collapsed": true
   },
   "outputs": [],
   "source": [
    "#用于替换value字段内的奇怪字符\n",
    "VALUE_REPLACE_CHARS = '📮'\n",
    "def reject_bad_chars_of_value(src_string, badchars=VALUE_REPLACE_CHARS):\n",
    "    result = re.sub(badchars, \"\", src_string)\n",
    "    return result"
   ]
  },
  {
   "cell_type": "markdown",
   "metadata": {},
   "source": [
    "执行后再次导入数据成功。"
   ]
  },
  {
   "cell_type": "markdown",
   "metadata": {},
   "source": [
    "## 2.3 调整电话格式"
   ]
  },
  {
   "cell_type": "markdown",
   "metadata": {},
   "source": [
    "地图中的电话标记存在很多问题，没有进行统一的格式化输入。  \n",
    "问题包括：  \n",
    "(a)一个电话标签确有多个电话（分隔符是用户自定的）、或电话标签内包含分机号；  \n",
    "(b)不规范的格式输入，包括多钟格式：未必包含+86、未必包含+021、021写成21、包含'-'号的分隔符等；  \n",
    "(c)不同类型的电话类型（手机号、固话、400电话、五位全国通用电话等)。  \n",
    "\n",
    "用下述SQL语句查询得到电话的一些例子："
   ]
  },
  {
   "cell_type": "code",
   "execution_count": null,
   "metadata": {
    "collapsed": true
   },
   "outputs": [],
   "source": [
    "select t.`key`, t.`value` \n",
    "from (select * from nodes_tags union all select * from ways_tags union all select * from rel_tags) t \n",
    "where t.`key`='phone';"
   ]
  },
  {
   "cell_type": "markdown",
   "metadata": {},
   "source": [
    "862122163900  \n",
    "+86 6361 2898  \n",
    "021-63914848, 021-63522222  \n",
    "+86 21 38809988  \n",
    "2164312091  \n",
    "86-21-50559888  \n",
    "+2147483647  \n",
    "+862164712821  \n",
    "+18 13621675140  \n",
    "02162883030  \n",
    "+86-21-5160-7888  \n",
    "+86 138 1609 3747  \n",
    "(021) 3356-3996  \n",
    "021-63779282  \n",
    "+86 (0)21-68778787  "
   ]
  },
  {
   "cell_type": "markdown",
   "metadata": {},
   "source": [
    "分析后，考虑分为三步处理：  \n",
    "1.去除数字中的所有格式（空格，+号，-号，括号）；  \n",
    "2.正则匹配，去除国家号与城市号，获取纯粹的的电话号码（8位固话，11位手机号，7位400电话，5位全国通用电话）；  \n",
    "3.生成正规格式的电话。(分为固话、手机号、400电话、全国通用电话等类型)  \n",
    "\n",
    "使用的处理函数如下："
   ]
  },
  {
   "cell_type": "code",
   "execution_count": null,
   "metadata": {
    "collapsed": true
   },
   "outputs": [],
   "source": [
    "#用于规范电话的格式\n",
    "#如果校验通过，返回正确格式的电话，否则返回空字符串\n",
    "REGULER_PHONE = re.compile(r'^(86)?(021|21)?([0-9]{8}|[0-9]{11}|400[0-9]{7}|[0-9]{5})$')\n",
    "def audit_phone(src_phone, regular_phone=REGULER_PHONE):\n",
    "    new_phone = re.sub(r'[+ \\-()]', '', src_phone)\n",
    "    phone = re.search(regular_phone, new_phone)\n",
    "    if phone:\n",
    "        phone_num = phone.group(3)\n",
    "        phone_type = len(phone_num)\n",
    "        #固话\n",
    "        if phone_type==8:\n",
    "            return '+86-021-' + phone_num\n",
    "        #手机\n",
    "        elif phone_type==11:\n",
    "            return '+86-' + phone_num\n",
    "        #400电话\n",
    "        elif phone_type==10:\n",
    "            return '+86-' + phone_num\n",
    "        #全国通用电话\n",
    "        elif phone_type==5:\n",
    "            return '+86-' + phone_num\n",
    "        else:\n",
    "            return ''\n",
    "    else:\n",
    "        return ''"
   ]
  },
  {
   "cell_type": "markdown",
   "metadata": {},
   "source": [
    "执行后显示剔除如下情况的错误格式：  \n",
    "错误的电话格式OrderedDict([('id', '477661623'), ('key', 'phone'), ('value', '021-63914848, 021-63522222'), ('type', 'regular')])  \n",
    "错误的电话格式OrderedDict([('id', '2345419578'), ('key', 'phone'), ('value', '+18 13621675140'), ('type', 'regular')])  \n",
    "错误的电话格式OrderedDict([('id', '3609090494'), ('key', 'phone'), ('value', '+86 8621 5118 1222'), ('type', 'regular')])  \n",
    "错误的电话格式OrderedDict([('id', '159787864'), ('key', 'phone'), ('value', '8008103088'), ('type', 'regular')])  \n",
    "错误的电话格式OrderedDict([('id', '293862126'), ('key', 'phone'), ('value', '+86 21 64874095*208'), ('type', 'regular')])  \n",
    "错误的电话格式OrderedDict([('id', '376223385'), ('key', 'phone'), ('value', '0862162838711'), ('type', 'regular')])  \n",
    "错误的电话格式OrderedDict([('id', '392578179'), ('key', 'phone'), ('value', '(+86)21/52068000'), ('type', 'regular')])  \n"
   ]
  },
  {
   "cell_type": "markdown",
   "metadata": {},
   "source": [
    "剔除错误格式的电话后，规范格式数据的例子如下所示："
   ]
  },
  {
   "cell_type": "markdown",
   "metadata": {},
   "source": [
    "phone\t+86-021-33533053  \n",
    "phone\t+86-021-64857333  \n",
    "phone\t+86-4008807729  \n",
    "phone\t+86-021-60548081  \n",
    "phone\t+86-021-68778787  \n",
    "phone\t+86-021-33680676  \n",
    "phone\t+86-021-61551988  \n",
    "phone\t+86-95580  \n",
    "phone\t+86-13818175006  "
   ]
  },
  {
   "cell_type": "markdown",
   "metadata": {
    "collapsed": true
   },
   "source": [
    "# 3. 数据集的概述统计"
   ]
  },
  {
   "cell_type": "markdown",
   "metadata": {},
   "source": [
    "## 3.1 文件大小"
   ]
  },
  {
   "cell_type": "markdown",
   "metadata": {},
   "source": [
    "<img src=\"./file_size.jpg\" style=\"width:200px;height:150px;float:left\">"
   ]
  },
  {
   "cell_type": "markdown",
   "metadata": {},
   "source": [
    "## 3.2 唯一用户数量"
   ]
  },
  {
   "cell_type": "code",
   "execution_count": null,
   "metadata": {
    "collapsed": true
   },
   "outputs": [],
   "source": [
    "#唯一用户数量\n",
    "select count(*) from \n",
    "(select `user` from nodes union select `user` from ways union select `user` from relations) t;"
   ]
  },
  {
   "cell_type": "markdown",
   "metadata": {},
   "source": [
    "获得数量为：1185"
   ]
  },
  {
   "cell_type": "code",
   "execution_count": null,
   "metadata": {
    "collapsed": true
   },
   "outputs": [],
   "source": [
    "#每个用户的贡献次数（选取显示前20贡献度的用户）\n",
    "select t.`user`, count(*) as count from\n",
    "(select `user` from nodes union all select `user` from ways union all select `user` from relations) t\n",
    "group by t.`user`\n",
    "order by count desc;"
   ]
  },
  {
   "cell_type": "markdown",
   "metadata": {},
   "source": [
    "|user|count|\n",
    "| - | :-: | -: |\n",
    "|zzcolin|\t57497  |\n",
    "|HWST|\t41568  |\n",
    "|Koalberry|\t24914  |\n",
    "|yangfl\t|20434  |\n",
    "|z_i_g_o|\t18872  |\n",
    "|Xylem|\t17704  |\n",
    "|u_kubota|\t15014|  \n",
    "|yhilan|\t13038 | \n",
    "|Esperanza36|\t11149  |\n",
    "|aighes\t|6966 | \n",
    "|Knockerclot0715|\t6496  |\n",
    "|Austin Zhu|\t6464  |\n",
    "|Mirarkitty|\t5837|\n",
    "|KartaBY|\t5512|\n",
    "|lukys1|\t5249|\n",
    "|DAJIBA|\t4411|\n",
    "|chdr|\t4391|\n",
    "|Poetini LEHARTEL|\t4215|\n",
    "|zhongguo|\t4027|\n",
    "|anthropologist|\t3905|"
   ]
  },
  {
   "cell_type": "markdown",
   "metadata": {},
   "source": [
    "## 3.3 node, way, relation的数量"
   ]
  },
  {
   "cell_type": "code",
   "execution_count": null,
   "metadata": {
    "collapsed": true
   },
   "outputs": [],
   "source": [
    "#node节点的数量\n",
    "select count(*) from nodes;"
   ]
  },
  {
   "cell_type": "markdown",
   "metadata": {},
   "source": [
    "341258"
   ]
  },
  {
   "cell_type": "code",
   "execution_count": null,
   "metadata": {
    "collapsed": true
   },
   "outputs": [],
   "source": [
    "#way节点的数量\n",
    "select count(*) from ways;"
   ]
  },
  {
   "cell_type": "markdown",
   "metadata": {},
   "source": [
    "49340"
   ]
  },
  {
   "cell_type": "code",
   "execution_count": null,
   "metadata": {
    "collapsed": true
   },
   "outputs": [],
   "source": [
    "#relation节点的数量\n",
    "select count(*) from relations;"
   ]
  },
  {
   "cell_type": "markdown",
   "metadata": {},
   "source": [
    "652"
   ]
  },
  {
   "cell_type": "markdown",
   "metadata": {},
   "source": [
    "## 3.4 其他节点类型数量统计"
   ]
  },
  {
   "cell_type": "code",
   "execution_count": null,
   "metadata": {
    "collapsed": true
   },
   "outputs": [],
   "source": [
    "#咖啡店的数量\n",
    "select count(*) from \n",
    "(select * from nodes_tags \n",
    "union all select * from ways_tags\n",
    "union all select * from rel_tags) t\n",
    "where t.`value`='cafe';"
   ]
  },
  {
   "cell_type": "markdown",
   "metadata": {},
   "source": [
    "254"
   ]
  },
  {
   "cell_type": "code",
   "execution_count": null,
   "metadata": {
    "collapsed": true
   },
   "outputs": [],
   "source": [
    "#便利设施、商店的数量\n",
    "select count(*) from \n",
    "(select * from nodes_tags \n",
    "union all select * from ways_tags\n",
    "union all select * from rel_tags) t\n",
    "where t.`key` in ('amenity', 'shop');"
   ]
  },
  {
   "cell_type": "markdown",
   "metadata": {},
   "source": [
    "4371"
   ]
  },
  {
   "cell_type": "code",
   "execution_count": null,
   "metadata": {
    "collapsed": true
   },
   "outputs": [],
   "source": [
    "#出现次数小于10的key值\n",
    "select count(*) from \n",
    "(select t.`key` as key_str from \n",
    "(select * from nodes_tags \n",
    "union all select * from ways_tags\n",
    "union all select * from rel_tags) t\n",
    "group by key_str \n",
    "having count(*)<10) t2"
   ]
  },
  {
   "cell_type": "markdown",
   "metadata": {},
   "source": [
    "422"
   ]
  },
  {
   "cell_type": "markdown",
   "metadata": {},
   "source": [
    "# 4. 额外的改进建议"
   ]
  },
  {
   "cell_type": "markdown",
   "metadata": {},
   "source": [
    "## 4.1 改进、分析数据的建议"
   ]
  },
  {
   "cell_type": "markdown",
   "metadata": {},
   "source": [
    "审计过程中的一些不规范格式输入、特殊字符等情况，可以通过在页面前端的输入部分进行格式校验与控制。比如标签值仅限输入中英文字符、数字、和其他常用字符等；  "
   ]
  },
  {
   "cell_type": "markdown",
   "metadata": {},
   "source": [
    "## 4.2 实施改进的益处与问题"
   ]
  },
  {
   "cell_type": "markdown",
   "metadata": {},
   "source": [
    "实施输入控制后，可以大幅减少错误字符、错误格式的数据量；但是引入输入控制比较困难，本身需要一套自己的维护工具。  "
   ]
  },
  {
   "cell_type": "markdown",
   "metadata": {},
   "source": [
    "# 5. 项目总结"
   ]
  },
  {
   "cell_type": "markdown",
   "metadata": {},
   "source": [
    "本次项目是我第一次实施数据清理。在项目进行中，python编码、数据审计、数据库导入都是对我的挑战。期间不断的试错、上网查找问题解决办法等，对于我的能力提升也很有帮助。此外在处理公开数据集后，我也认识到数据清洗是多么需要花费时间与耐心的一项工作。"
   ]
  },
  {
   "cell_type": "markdown",
   "metadata": {},
   "source": [
    "# 6.参考链接 "
   ]
  },
  {
   "cell_type": "markdown",
   "metadata": {},
   "source": [
    "CSV文件处理：  \n",
    "http://blog.csdn.net/ko_tin/article/details/72627266  \n",
    "http://blog.csdn.net/huitailang1991/article/details/54946528  \n",
    "\n",
    "正则匹配：  \n",
    "https://docs.python.org/2/library/re.html  \n",
    "\n",
    "Cerberus库：  \n",
    "http://docs.python-cerberus.org/en/stable/  \n",
    "\n",
    "数据库相关问题：  \n",
    "http://blog.csdn.net/u013063153/article/details/53304261  \n",
    "http://blog.csdn.net/gvfdbdf/article/details/49455381  \n",
    "http://bbs.csdn.net/topics/390661358  \n",
    "https://stackoverflow.com/questions/6621530/1264-out-of-range-value-fix  \n",
    "http://www.oschina.net/question/1165991_2200405  \n",
    "http://blog.csdn.net/a14206149/article/details/35991455  \n"
   ]
  }
 ],
 "metadata": {
  "kernelspec": {
   "display_name": "Python 3",
   "language": "python",
   "name": "python3"
  },
  "language_info": {
   "codemirror_mode": {
    "name": "ipython",
    "version": 3
   },
   "file_extension": ".py",
   "mimetype": "text/x-python",
   "name": "python",
   "nbconvert_exporter": "python",
   "pygments_lexer": "ipython3",
   "version": "3.6.0"
  }
 },
 "nbformat": 4,
 "nbformat_minor": 2
}
