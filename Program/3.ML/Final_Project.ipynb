{
 "cells": [
  {
   "cell_type": "code",
   "execution_count": 1,
   "metadata": {
    "collapsed": true
   },
   "outputs": [],
   "source": [
    "%matplotlib inline\n",
    "%config InlineBackend.figure_format = 'retina'"
   ]
  },
  {
   "cell_type": "markdown",
   "metadata": {},
   "source": [
    "# Task 1 : Select what features you'll use."
   ]
  },
  {
   "cell_type": "code",
   "execution_count": 2,
   "metadata": {
    "collapsed": false
   },
   "outputs": [
    {
     "name": "stderr",
     "output_type": "stream",
     "text": [
      "C:\\Users\\dtzyh\\Anaconda3\\envs\\ml\\lib\\site-packages\\sklearn\\cross_validation.py:41: DeprecationWarning: This module was deprecated in version 0.18 in favor of the model_selection module into which all the refactored classes and functions are moved. Also note that the interface of the new CV iterators are different from that of this module. This module will be removed in 0.20.\n",
      "  \"This module will be removed in 0.20.\", DeprecationWarning)\n"
     ]
    }
   ],
   "source": [
    "import sys\n",
    "import pickle\n",
    "sys.path.append(\"../tools/\")\n",
    "\n",
    "from feature_format import featureFormat, targetFeatureSplit\n",
    "from tester import dump_classifier_and_data\n",
    "\n",
    "### Task 1: Select what features you'll use.\n",
    "### features_list is a list of strings, each of which is a feature name.\n",
    "### The first feature must be \"poi\".\n",
    "features_list = ['poi','salary', 'exercised_stock_options', 'bonus', 'loan_advances','expenses', 'poi_message_percentage']\n",
    "                    # 'to_messages', 'from_poi_to_this_person', 'from_messages', 'from_this_person_to_poi']\n",
    "\n",
    "# You will need to use more features\n",
    "# 认为POI都是收入水平很高，且需要花钱的人，因此加入税金与可行驶的股票期权\n",
    "\n",
    "### Load the dictionary containing the dataset\n",
    "with open(\"final_project_dataset.pkl\", \"r\") as data_file:\n",
    "    data_dict = pickle.load(data_file)\n"
   ]
  },
  {
   "cell_type": "markdown",
   "metadata": {},
   "source": [
    "## Task 1.1 : Explore dataset."
   ]
  },
  {
   "cell_type": "code",
   "execution_count": 3,
   "metadata": {
    "collapsed": false
   },
   "outputs": [
    {
     "name": "stdout",
     "output_type": "stream",
     "text": [
      "Originally, number of data points is 146\n"
     ]
    }
   ],
   "source": [
    "print 'Originally, number of data points is {0}'.format(len(data_dict))"
   ]
  },
  {
   "cell_type": "code",
   "execution_count": 4,
   "metadata": {
    "collapsed": false
   },
   "outputs": [
    {
     "name": "stdout",
     "output_type": "stream",
     "text": [
      "POI number is 18\n",
      "Not POI number is 128\n"
     ]
    }
   ],
   "source": [
    "poi_list = {name:info for name,info in data_dict.iteritems() if info['poi']==1}\n",
    "print 'POI number is {0}'.format(len(poi_list))\n",
    "print 'Not POI number is {0}'.format(len({name:info for name,info in data_dict.iteritems() if info['poi']==0}))"
   ]
  },
  {
   "cell_type": "code",
   "execution_count": 5,
   "metadata": {
    "collapsed": false
   },
   "outputs": [
    {
     "name": "stdout",
     "output_type": "stream",
     "text": [
      "Features number is 7\n",
      "\n",
      "NaN number of feature : poi : 0\n",
      "NaN number of feature : salary : 51\n",
      "NaN number of feature : exercised_stock_options : 44\n",
      "NaN number of feature : bonus : 64\n",
      "NaN number of feature : loan_advances : 142\n",
      "NaN number of feature : expenses : 51\n",
      "NaN number of feature : poi_message_percentage : 0\n",
      "\n",
      "poi with NaN poi value / total poi number : 0 / 18\n",
      "poi with NaN salary value / total poi number : 1 / 18\n",
      "poi with NaN exercised_stock_options value / total poi number : 6 / 18\n",
      "poi with NaN bonus value / total poi number : 2 / 18\n",
      "poi with NaN loan_advances value / total poi number : 17 / 18\n",
      "poi with NaN expenses value / total poi number : 0 / 18\n",
      "poi with NaN poi_message_percentage value / total poi number : 0 / 18\n"
     ]
    }
   ],
   "source": [
    "print 'Features number is {0}'.format(len(features_list))\n",
    "print\n",
    "\n",
    "for feature in features_list:\n",
    "    feature_nan_list = [info[feature] for name, info in data_dict.iteritems() if feature in info.keys() and info[feature] == 'NaN']\n",
    "    print \"NaN number of feature : {0} : {1}\".format(feature, len(feature_nan_list),)\n",
    "print \n",
    "\n",
    "for feature in features_list:\n",
    "    poi_list_with_feature_nan = [info[feature] for poi, info in poi_list.iteritems() if feature in info.keys() and  info[feature] == 'NaN']\n",
    "    print \"poi with NaN {0} value / total poi number : {1} / {2}\".format(feature, len(poi_list_with_feature_nan), len(poi_list))"
   ]
  },
  {
   "cell_type": "markdown",
   "metadata": {},
   "source": [
    "# Task 2: Remove outliers"
   ]
  },
  {
   "cell_type": "code",
   "execution_count": 6,
   "metadata": {
    "collapsed": false
   },
   "outputs": [
    {
     "name": "stdout",
     "output_type": "stream",
     "text": [
      "After removing outliers, new number of data point is 145\n"
     ]
    }
   ],
   "source": [
    "### Task 2: Remove outliers\n",
    "data_dict.pop( 'TOTAL', 0 ) # TOTAL 存储的是所有人的总和，因此为异常值\n",
    "\n",
    "print 'After removing outliers, new number of data point is {0}'.format(len(data_dict))"
   ]
  },
  {
   "cell_type": "markdown",
   "metadata": {},
   "source": [
    "# Task 3: Create new feature(s)"
   ]
  },
  {
   "cell_type": "code",
   "execution_count": 7,
   "metadata": {
    "collapsed": false
   },
   "outputs": [],
   "source": [
    "### Task 3: Create new feature(s)\n",
    "### Store to my_dataset for easy export below.\n",
    "my_dataset = data_dict\n",
    "\n",
    "for k,v in my_dataset.iteritems():\n",
    "    to_messages = v['to_messages'] \n",
    "    from_poi_to_this_person = v['from_poi_to_this_person']\n",
    "    from_messages = v['from_messages']\n",
    "    from_this_person_to_poi = v['from_this_person_to_poi']\n",
    "\n",
    "    if to_messages == 'NaN' or from_poi_to_this_person == 'NaN' or from_messages == 'NaN' or from_this_person_to_poi == 'NaN':\n",
    "        v['poi_message_percentage'] = 'NaN'\n",
    "        continue\n",
    "    \n",
    "    poi_message_percentage = 1.0*(from_poi_to_this_person + from_this_person_to_poi) / (to_messages + from_messages)\n",
    "    v['poi_message_percentage'] = poi_message_percentage\n",
    "    #print poi_message_percentage\n",
    "\n",
    "### Extract features and labels from dataset for local testing\n",
    "data = featureFormat(my_dataset, features_list, sort_keys = True)\n",
    "labels, features = targetFeatureSplit(data)"
   ]
  },
  {
   "cell_type": "code",
   "execution_count": 8,
   "metadata": {
    "collapsed": false
   },
   "outputs": [
    {
     "name": "stdout",
     "output_type": "stream",
     "text": [
      "['poi', 'salary', 'exercised_stock_options', 'bonus', 'loan_advances', 'expenses', 'poi_message_percentage']\n"
     ]
    }
   ],
   "source": [
    "### my code\n",
    "print features_list"
   ]
  },
  {
   "cell_type": "code",
   "execution_count": 69,
   "metadata": {
    "collapsed": false
   },
   "outputs": [
    {
     "data": {
      "image/png": "[encoded data removed]",
      "text/plain": [
       "<matplotlib.figure.Figure at 0x158b6240>"
      ]
     },
     "metadata": {
      "image/png": {
       "height": 272,
       "width": 387
      }
     },
     "output_type": "display_data"
    },
    {
     "data": {
      "image/png": "[encoded data removed]",
      "text/plain": [
       "<matplotlib.figure.Figure at 0x1460a9e8>"
      ]
     },
     "metadata": {
      "image/png": {
       "height": 272,
       "width": 387
      }
     },
     "output_type": "display_data"
    },
    {
     "data": {
      "image/png": "[encoded data removed]",
      "text/plain": [
       "<matplotlib.figure.Figure at 0x64c44a8>"
      ]
     },
     "metadata": {
      "image/png": {
       "height": 272,
       "width": 387
      }
     },
     "output_type": "display_data"
    }
   ],
   "source": [
    "def draw_2features_scatter(X_id, Y_id):\n",
    "    import matplotlib.pyplot as plt\n",
    "    for point in features:\n",
    "        X = point[X_id]\n",
    "        Y = point[Y_id]\n",
    "        plt.scatter( X, Y )\n",
    "    plt.xlabel(features_list[1+X_id])\n",
    "    plt.ylabel(features_list[1+Y_id])\n",
    "    plt.show()\n",
    "\n",
    "draw_2features_scatter(X_id=0, Y_id=2)\n",
    "draw_2features_scatter(X_id=0, Y_id=1)\n",
    "draw_2features_scatter(X_id=1, Y_id=2)"
   ]
  },
  {
   "cell_type": "markdown",
   "metadata": {},
   "source": [
    "# Task 4: Try a varity of classifiers"
   ]
  },
  {
   "cell_type": "code",
   "execution_count": 9,
   "metadata": {
    "collapsed": false
   },
   "outputs": [],
   "source": [
    "### Task 4: Try a varity of classifiers\n",
    "### Please name your classifier clf for easy export below.\n",
    "### Note that if you want to do PCA or other multi-stage operations,\n",
    "### you'll need to use Pipelines. For more info:\n",
    "### http://scikit-learn.org/stable/modules/pipeline.html\n",
    "\n",
    "# Provided to give you a starting point. Try a variety of classifiers.\n",
    "\n",
    "from sklearn.naive_bayes import GaussianNB\n",
    "from sklearn.tree import DecisionTreeClassifier\n",
    "from sklearn.svm import SVC\n",
    "\n",
    "clf_bayes = GaussianNB()\n",
    "\n",
    "\n",
    "clf_DT = DecisionTreeClassifier()\n",
    "param_DT = dict(reduce_dim__n_components=[2, 3], clf__min_samples_split=[2, 10, 40])\n",
    "\n",
    "clf_SVM = SVC()\n",
    "param_SVM = dict(reduce_dim__n_components=[2, 3], clf__kernel=['linear', 'sigmoid'])"
   ]
  },
  {
   "cell_type": "code",
   "execution_count": 10,
   "metadata": {
    "collapsed": true
   },
   "outputs": [],
   "source": [
    "### Use PCA(), GridSerchCV() to make model.\n",
    "def make_model(clf, param_grid):\n",
    "    from sklearn.pipeline import Pipeline\n",
    "    from sklearn.decomposition import PCA\n",
    "    #构建管道\n",
    "    estimators = [('reduce_dim', PCA()), ('clf', clf)]\n",
    "    pipe = Pipeline(estimators)\n",
    "    \n",
    "    # 构建自动参数选择\n",
    "    from sklearn.model_selection import GridSearchCV\n",
    "    model = GridSearchCV(pipe, param_grid=param_grid)\n",
    "    \n",
    "    return model"
   ]
  },
  {
   "cell_type": "markdown",
   "metadata": {},
   "source": [
    "# Task 5: Tune your classifier"
   ]
  },
  {
   "cell_type": "code",
   "execution_count": 7,
   "metadata": {
    "collapsed": false
   },
   "outputs": [
    {
     "name": "stdout",
     "output_type": "stream",
     "text": [
      "training time: 0.447 s\n",
      "testing time: 0.0 s\n",
      "ACC:0.829268292683\n"
     ]
    }
   ],
   "source": [
    "### Task 5: Tune your classifier to achieve better than .3 precision and recall \n",
    "### using our testing script. Check the tester.py script in the final project\n",
    "### folder for details on the evaluation method, especially the test_classifier\n",
    "### function. Because of the small size of the dataset, the script uses\n",
    "### stratified shuffle split cross validation. For more info: \n",
    "### http://scikit-learn.org/stable/modules/generated/sklearn.cross_validation.StratifiedShuffleSplit.html\n",
    "\n",
    "# Example starting point. Try investigating other evaluation techniques!\n",
    "from sklearn.cross_validation import train_test_split\n",
    "features_train, features_test, labels_train, labels_test = \\\n",
    "    train_test_split(features, labels, test_size=0.3, random_state=42)\n",
    "\n",
    "# 构建自动参数选择\n",
    "from time import time\n",
    "\n",
    "t0 = time()\n",
    "model = make_model(clf=clf_DT, param_grid=param_DT)\n",
    "model.fit(features_train, labels_train)\n",
    "print \"training time:\", round(time()-t0, 3), \"s\"\n",
    "\n",
    "t1 = time()\n",
    "pred = model.predict(features_test)\n",
    "print \"testing time:\", round(time()-t1, 3), \"s\"\n",
    "\n",
    "from sklearn.metrics import accuracy_score\n",
    "acc = accuracy_score(pred, labels_test)\n",
    "print \"ACC:{0}\".format(acc)\n"
   ]
  },
  {
   "cell_type": "code",
   "execution_count": 8,
   "metadata": {
    "collapsed": false
   },
   "outputs": [
    {
     "data": {
      "text/plain": [
       "{'clf__min_samples_split': 10, 'reduce_dim__n_components': 3}"
      ]
     },
     "execution_count": 8,
     "metadata": {},
     "output_type": "execute_result"
    }
   ],
   "source": [
    "model.best_params_"
   ]
  },
  {
   "cell_type": "code",
   "execution_count": 9,
   "metadata": {
    "collapsed": false
   },
   "outputs": [
    {
     "data": {
      "text/plain": [
       "array([  2.29839566e-02,   9.91023736e-01,   1.31693796e-01,\n",
       "        -6.15014586e-04,   2.42754902e-04,  -3.97017869e-10])"
      ]
     },
     "execution_count": 9,
     "metadata": {},
     "output_type": "execute_result"
    }
   ],
   "source": [
    "model.best_estimator_.named_steps['reduce_dim'].components_[0]"
   ]
  },
  {
   "cell_type": "code",
   "execution_count": 10,
   "metadata": {
    "collapsed": true
   },
   "outputs": [],
   "source": [
    "clf=model"
   ]
  },
  {
   "cell_type": "markdown",
   "metadata": {},
   "source": [
    "# Task 6: Dump your classifier, dataset, and features_list"
   ]
  },
  {
   "cell_type": "code",
   "execution_count": 169,
   "metadata": {
    "collapsed": true
   },
   "outputs": [],
   "source": [
    "### Task 6: Dump your classifier, dataset, and features_list so anyone can\n",
    "### check your results. You do not need to change anything below, but make sure\n",
    "### that the version of poi_id.py that you submit can be run on its own and\n",
    "### generates the necessary .pkl files for validating your results.\n",
    "\n",
    "dump_classifier_and_data(clf, my_dataset, features_list)"
   ]
  },
  {
   "cell_type": "markdown",
   "metadata": {},
   "source": [
    "# * Use test.py to get scores"
   ]
  },
  {
   "cell_type": "code",
   "execution_count": 135,
   "metadata": {
    "collapsed": false
   },
   "outputs": [
    {
     "name": "stdout",
     "output_type": "stream",
     "text": [
      "GridSearchCV(cv=None, error_score='raise',\n",
      "       estimator=Pipeline(memory=None,\n",
      "     steps=[('reduce_dim', PCA(copy=True, iterated_power='auto', n_components=None, random_state=None,\n",
      "  svd_solver='auto', tol=0.0, whiten=False)), ('clf', DecisionTreeClassifier(class_weight=None, criterion='gini', max_depth=None,\n",
      "            max_features=None, max_leaf_nodes=None,\n",
      "            min_impu...      min_weight_fraction_leaf=0.0, presort=False, random_state=None,\n",
      "            splitter='best'))]),\n",
      "       fit_params=None, iid=True, n_jobs=1,\n",
      "       param_grid={'reduce_dim__n_components': [2, 3], 'clf__min_samples_split': [2, 10, 40]},\n",
      "       pre_dispatch='2*n_jobs', refit=True, return_train_score='warn',\n",
      "       scoring=None, verbose=0)\n",
      "\tAccuracy: 0.85721\tPrecision: 0.50034\tRecall: 0.36700\tF1: 0.42342\tF2: 0.38766\n",
      "\tTotal predictions: 14000\tTrue positives:  734\tFalse positives:  733\tFalse negatives: 1266\tTrue negatives: 11267\n",
      "\n"
     ]
    }
   ],
   "source": [
    "import tester as t\n",
    "\n",
    "t.main()"
   ]
  },
  {
   "cell_type": "markdown",
   "metadata": {},
   "source": [
    "# Try another Algorithm"
   ]
  },
  {
   "cell_type": "markdown",
   "metadata": {},
   "source": [
    "## origin features & DT"
   ]
  },
  {
   "cell_type": "code",
   "execution_count": 19,
   "metadata": {
    "collapsed": false
   },
   "outputs": [
    {
     "name": "stdout",
     "output_type": "stream",
     "text": [
      "training time: 0.133 s\n",
      "testing time: 0.002 s\n",
      "ACC:0.85\n",
      "GridSearchCV(cv=None, error_score='raise',\n",
      "       estimator=Pipeline(memory=None,\n",
      "     steps=[('reduce_dim', PCA(copy=True, iterated_power='auto', n_components=None, random_state=None,\n",
      "  svd_solver='auto', tol=0.0, whiten=False)), ('clf', DecisionTreeClassifier(class_weight=None, criterion='gini', max_depth=None,\n",
      "            max_features=None, max_leaf_nodes=None,\n",
      "            min_impu...      min_weight_fraction_leaf=0.0, presort=False, random_state=None,\n",
      "            splitter='best'))]),\n",
      "       fit_params=None, iid=True, n_jobs=1,\n",
      "       param_grid={'reduce_dim__n_components': [2, 3], 'clf__min_samples_split': [2, 10, 40]},\n",
      "       pre_dispatch='2*n_jobs', refit=True, return_train_score='warn',\n",
      "       scoring=None, verbose=0)\n",
      "\tAccuracy: 0.86443\tPrecision: 0.53576\tRecall: 0.38200\tF1: 0.44600\tF2: 0.40526\n",
      "\tTotal predictions: 14000\tTrue positives:  764\tFalse positives:  662\tFalse negatives: 1236\tTrue negatives: 11338\n",
      "\n"
     ]
    }
   ],
   "source": [
    "features_list = ['poi','salary', 'exercised_stock_options', 'bonus', 'loan_advances','expenses']#'poi_message_percentage']\n",
    "### Extract features and labels from dataset for local testing\n",
    "data = featureFormat(my_dataset, features_list, sort_keys = True)\n",
    "labels, features = targetFeatureSplit(data)\n",
    "\n",
    "\n",
    "from sklearn.cross_validation import train_test_split\n",
    "features_train, features_test, labels_train, labels_test = \\\n",
    "    train_test_split(features, labels, test_size=0.3, random_state=42)\n",
    "\n",
    "# 构建自动参数选择\n",
    "from time import time\n",
    "\n",
    "t0 = time()\n",
    "model = make_model(clf=clf_DT, param_grid=param_DT)\n",
    "model.fit(features_train, labels_train)\n",
    "print \"training time:\", round(time()-t0, 3), \"s\"\n",
    "\n",
    "t1 = time()\n",
    "pred = model.predict(features_test)\n",
    "print \"testing time:\", round(time()-t1, 3), \"s\"\n",
    "\n",
    "from sklearn.metrics import accuracy_score\n",
    "acc = accuracy_score(pred, labels_test)\n",
    "print \"ACC:{0}\".format(acc)\n",
    "\n",
    "model.best_params_\n",
    "\n",
    "clf=model\n",
    "\n",
    "dump_classifier_and_data(clf, my_dataset, features_list)\n",
    "\n",
    "import tester as t\n",
    "t.main()"
   ]
  },
  {
   "cell_type": "code",
   "execution_count": 20,
   "metadata": {
    "collapsed": false
   },
   "outputs": [
    {
     "name": "stdout",
     "output_type": "stream",
     "text": [
      "[[  1.07498471e-02   4.65153263e-01   7.56292661e-02   8.81927769e-01\n",
      "    7.11946923e-04]\n",
      " [  4.74351932e-03   8.83489743e-01   2.19103724e-02  -4.67913781e-01\n",
      "   -5.24706803e-05]\n",
      " [  8.02745506e-02  -5.52770830e-02   9.93577550e-01  -5.70333141e-02\n",
      "    7.16194000e-03]]\n",
      "[ 0.26762602  0.17144364  0.56093034]\n"
     ]
    }
   ],
   "source": [
    "print model.best_estimator_.named_steps['reduce_dim'].components_\n",
    "print model.best_estimator_.named_steps['clf'].feature_importances_ "
   ]
  },
  {
   "cell_type": "markdown",
   "metadata": {},
   "source": [
    "## new features and DT"
   ]
  },
  {
   "cell_type": "code",
   "execution_count": 21,
   "metadata": {
    "collapsed": false
   },
   "outputs": [
    {
     "name": "stdout",
     "output_type": "stream",
     "text": [
      "training time: 0.085 s\n",
      "testing time: 0.0 s\n",
      "ACC:0.829268292683\n",
      "GridSearchCV(cv=None, error_score='raise',\n",
      "       estimator=Pipeline(memory=None,\n",
      "     steps=[('reduce_dim', PCA(copy=True, iterated_power='auto', n_components=None, random_state=None,\n",
      "  svd_solver='auto', tol=0.0, whiten=False)), ('clf', DecisionTreeClassifier(class_weight=None, criterion='gini', max_depth=None,\n",
      "            max_features=None, max_leaf_nodes=None,\n",
      "            min_impu...      min_weight_fraction_leaf=0.0, presort=False, random_state=None,\n",
      "            splitter='best'))]),\n",
      "       fit_params=None, iid=True, n_jobs=1,\n",
      "       param_grid={'reduce_dim__n_components': [2, 3], 'clf__min_samples_split': [2, 10, 40]},\n",
      "       pre_dispatch='2*n_jobs', refit=True, return_train_score='warn',\n",
      "       scoring=None, verbose=0)\n",
      "\tAccuracy: 0.85621\tPrecision: 0.49554\tRecall: 0.36100\tF1: 0.41770\tF2: 0.38173\n",
      "\tTotal predictions: 14000\tTrue positives:  722\tFalse positives:  735\tFalse negatives: 1278\tTrue negatives: 11265\n",
      "\n"
     ]
    }
   ],
   "source": [
    "features_list = ['poi','salary', 'exercised_stock_options', 'bonus', 'loan_advances','expenses', 'poi_message_percentage']\n",
    "### Extract features and labels from dataset for local testing\n",
    "data = featureFormat(my_dataset, features_list, sort_keys = True)\n",
    "labels, features = targetFeatureSplit(data)\n",
    "\n",
    "\n",
    "from sklearn.cross_validation import train_test_split\n",
    "features_train, features_test, labels_train, labels_test = \\\n",
    "    train_test_split(features, labels, test_size=0.3, random_state=42)\n",
    "\n",
    "# 构建自动参数选择\n",
    "from time import time\n",
    "\n",
    "t0 = time()\n",
    "model = make_model(clf=clf_DT, param_grid=param_DT)\n",
    "model.fit(features_train, labels_train)\n",
    "print \"training time:\", round(time()-t0, 3), \"s\"\n",
    "\n",
    "t1 = time()\n",
    "pred = model.predict(features_test)\n",
    "print \"testing time:\", round(time()-t1, 3), \"s\"\n",
    "\n",
    "from sklearn.metrics import accuracy_score\n",
    "acc = accuracy_score(pred, labels_test)\n",
    "print \"ACC:{0}\".format(acc)\n",
    "\n",
    "model.best_params_\n",
    "\n",
    "clf=model\n",
    "\n",
    "dump_classifier_and_data(clf, my_dataset, features_list)\n",
    "\n",
    "import tester as t\n",
    "t.main()"
   ]
  },
  {
   "cell_type": "code",
   "execution_count": 22,
   "metadata": {
    "collapsed": false
   },
   "outputs": [
    {
     "name": "stdout",
     "output_type": "stream",
     "text": [
      "[[  2.29839566e-02   9.91023736e-01   1.31693796e-01  -6.15014586e-04\n",
      "    2.42754902e-04  -3.97017869e-10]\n",
      " [  7.12487447e-02  -1.33015161e-01   9.88515384e-01  -4.26641458e-04\n",
      "    8.23026111e-03   1.03104862e-08]\n",
      " [  9.87075628e-01  -1.30715391e-02  -7.34849264e-02   1.19731846e-01\n",
      "    7.59940112e-02   4.72382506e-08]]\n",
      "[ 0.29903148  0.70096852  0.        ]\n"
     ]
    }
   ],
   "source": [
    "print model.best_estimator_.named_steps['reduce_dim'].components_\n",
    "print model.best_estimator_.named_steps['clf'].feature_importances_ "
   ]
  },
  {
   "cell_type": "markdown",
   "metadata": {},
   "source": [
    "## origin features and SVM"
   ]
  },
  {
   "cell_type": "code",
   "execution_count": null,
   "metadata": {
    "collapsed": true
   },
   "outputs": [],
   "source": [
    "features_list = ['poi','salary', 'exercised_stock_options', 'bonus', 'loan_advances','expenses']\n",
    "### Extract features and labels from dataset for local testing\n",
    "data = featureFormat(my_dataset, features_list, sort_keys = True)\n",
    "labels, features = targetFeatureSplit(data)\n",
    "\n",
    "\n",
    "from sklearn.cross_validation import train_test_split\n",
    "features_train, features_test, labels_train, labels_test = \\\n",
    "    train_test_split(features, labels, test_size=0.3, random_state=42)\n",
    "\n",
    "# 构建自动参数选择\n",
    "from time import time\n",
    "\n",
    "t0 = time()\n",
    "model = make_model(clf=clf_SVM, param_grid=param_SVM)\n",
    "model.fit(features_train, labels_train)\n",
    "print \"training time:\", round(time()-t0, 3), \"s\"\n",
    "\n",
    "t1 = time()\n",
    "pred = model.predict(features_test)\n",
    "print \"testing time:\", round(time()-t1, 3), \"s\"\n",
    "\n",
    "from sklearn.metrics import accuracy_score\n",
    "acc = accuracy_score(pred, labels_test)\n",
    "print \"ACC:{0}\".format(acc)\n",
    "\n",
    "model.best_params_\n",
    "\n",
    "clf=model\n",
    "\n",
    "dump_classifier_and_data(clf, my_dataset, features_list)\n",
    "\n",
    "import tester as t\n",
    "t.main()"
   ]
  },
  {
   "cell_type": "code",
   "execution_count": null,
   "metadata": {
    "collapsed": true
   },
   "outputs": [],
   "source": []
  }
 ],
 "metadata": {
  "kernelspec": {
   "display_name": "Python 2",
   "language": "python",
   "name": "python2"
  },
  "language_info": {
   "codemirror_mode": {
    "name": "ipython",
    "version": 2
   },
   "file_extension": ".py",
   "mimetype": "text/x-python",
   "name": "python",
   "nbconvert_exporter": "python",
   "pygments_lexer": "ipython2",
   "version": "2.7.13"
  }
 },
 "nbformat": 4,
 "nbformat_minor": 2
}
