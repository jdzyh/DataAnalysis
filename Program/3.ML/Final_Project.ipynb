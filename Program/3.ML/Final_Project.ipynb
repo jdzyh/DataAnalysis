{
 "cells": [
  {
   "cell_type": "code",
   "execution_count": 1,
   "metadata": {
    "collapsed": true
   },
   "outputs": [],
   "source": [
    "%matplotlib inline\n",
    "%config InlineBackend.figure_format = 'retina'"
   ]
  },
  {
   "cell_type": "markdown",
   "metadata": {},
   "source": [
    "# Task 1 : Select what features you'll use."
   ]
  },
  {
   "cell_type": "code",
   "execution_count": 120,
   "metadata": {
    "collapsed": false
   },
   "outputs": [],
   "source": [
    "import sys\n",
    "import pickle\n",
    "sys.path.append(\"../tools/\")\n",
    "\n",
    "from feature_format import featureFormat, targetFeatureSplit\n",
    "from tester import dump_classifier_and_data\n",
    "\n",
    "### Task 1: Select what features you'll use.\n",
    "### features_list is a list of strings, each of which is a feature name.\n",
    "### The first feature must be \"poi\".\n",
    "features_list = ['poi','total_stock_value','exercised_stock_options',\n",
    "                'bonus','salary','long_term_incentive','shared_receipt_with_poi','deferred_income',\n",
    "                'from_poi_to_this_person','poi_message_percentage','restricted_stock','total_payments']\n",
    "\n",
    "# You will need to use more features\n",
    "# 认为POI都是收入水平很高，且需要花钱的人，因此加入税金与可行驶的股票期权\n",
    "\n",
    "### Load the dictionary containing the dataset\n",
    "with open(\"final_project_dataset.pkl\", \"r\") as data_file:\n",
    "    data_dict = pickle.load(data_file)\n"
   ]
  },
  {
   "cell_type": "markdown",
   "metadata": {},
   "source": [
    "## Task 1.1 : Explore dataset."
   ]
  },
  {
   "cell_type": "code",
   "execution_count": 60,
   "metadata": {
    "collapsed": false
   },
   "outputs": [
    {
     "name": "stdout",
     "output_type": "stream",
     "text": [
      "Originally, number of data points is 146\n"
     ]
    }
   ],
   "source": [
    "print 'Originally, number of data points is {0}'.format(len(data_dict))"
   ]
  },
  {
   "cell_type": "code",
   "execution_count": 12,
   "metadata": {
    "collapsed": false
   },
   "outputs": [
    {
     "name": "stdout",
     "output_type": "stream",
     "text": [
      "POI number is 18\n",
      "Not POI number is 128\n"
     ]
    }
   ],
   "source": [
    "poi_list = {name:info for name,info in data_dict.iteritems() if info['poi']==1}\n",
    "print 'POI number is {0}'.format(len(poi_list))\n",
    "print 'Not POI number is {0}'.format(len({name:info for name,info in data_dict.iteritems() if info['poi']==0}))"
   ]
  },
  {
   "cell_type": "code",
   "execution_count": 13,
   "metadata": {
    "collapsed": false
   },
   "outputs": [],
   "source": [
    "ALL_FEATURES = [k for k in data_dict.items()[0][1].keys() if k!='email_address' and k!='poi']"
   ]
  },
  {
   "cell_type": "code",
   "execution_count": 14,
   "metadata": {
    "collapsed": false
   },
   "outputs": [
    {
     "name": "stdout",
     "output_type": "stream",
     "text": [
      "['salary', 'to_messages', 'deferral_payments', 'total_payments', 'exercised_stock_options', 'bonus', 'restricted_stock', 'shared_receipt_with_poi', 'restricted_stock_deferred', 'total_stock_value', 'expenses', 'loan_advances', 'from_messages', 'other', 'from_this_person_to_poi', 'director_fees', 'deferred_income', 'long_term_incentive', 'from_poi_to_this_person']\n"
     ]
    }
   ],
   "source": [
    "print ALL_FEATURES"
   ]
  },
  {
   "cell_type": "code",
   "execution_count": 15,
   "metadata": {
    "collapsed": false
   },
   "outputs": [
    {
     "name": "stdout",
     "output_type": "stream",
     "text": [
      "Features number is 11\n",
      "\n",
      "\n",
      "NaN number of feature : salary : 51\n",
      "NaN number of feature : to_messages : 60\n",
      "NaN number of feature : deferral_payments : 107\n",
      "NaN number of feature : total_payments : 21\n",
      "NaN number of feature : exercised_stock_options : 44\n",
      "NaN number of feature : bonus : 64\n",
      "NaN number of feature : restricted_stock : 36\n",
      "NaN number of feature : shared_receipt_with_poi : 60\n",
      "NaN number of feature : restricted_stock_deferred : 128\n",
      "NaN number of feature : total_stock_value : 20\n",
      "NaN number of feature : expenses : 51\n",
      "NaN number of feature : loan_advances : 142\n",
      "NaN number of feature : from_messages : 60\n",
      "NaN number of feature : other : 53\n",
      "NaN number of feature : from_this_person_to_poi : 60\n",
      "NaN number of feature : director_fees : 129\n",
      "NaN number of feature : deferred_income : 97\n",
      "NaN number of feature : long_term_incentive : 80\n",
      "NaN number of feature : from_poi_to_this_person : 60\n",
      "\n",
      "Total POI number is 18\n",
      "poi with NaN salary value: 1\n",
      "poi with NaN to_messages value: 4\n",
      "poi with NaN deferral_payments value: 13\n",
      "poi with NaN total_payments value: 0\n",
      "poi with NaN exercised_stock_options value: 6\n",
      "poi with NaN bonus value: 2\n",
      "poi with NaN restricted_stock value: 1\n",
      "poi with NaN shared_receipt_with_poi value: 4\n",
      "poi with NaN restricted_stock_deferred value: 18\n",
      "poi with NaN total_stock_value value: 0\n",
      "poi with NaN expenses value: 0\n",
      "poi with NaN loan_advances value: 17\n",
      "poi with NaN from_messages value: 4\n",
      "poi with NaN other value: 0\n",
      "poi with NaN from_this_person_to_poi value: 4\n",
      "poi with NaN director_fees value: 18\n",
      "poi with NaN deferred_income value: 7\n",
      "poi with NaN long_term_incentive value: 6\n",
      "poi with NaN from_poi_to_this_person value: 4\n"
     ]
    }
   ],
   "source": [
    "print 'Features number is {0}'.format(len(features_list)-1)\n",
    "print \n",
    "print \n",
    "for feature in ALL_FEATURES:\n",
    "    feature_nan_list = [info[feature] for name, info in data_dict.iteritems() if feature in info.keys() and info[feature] == 'NaN']\n",
    "    print \"NaN number of feature : {0} : {1}\".format(feature, len(feature_nan_list),)\n",
    "print \n",
    "\n",
    "print 'Total POI number is {0}'.format(len(poi_list))\n",
    "for feature in ALL_FEATURES:\n",
    "    poi_list_with_feature_nan = [info[feature] for poi, info in poi_list.iteritems() if feature in info.keys() and  info[feature] == 'NaN']\n",
    "    print \"poi with NaN {0} value: {1}\".format(feature, len(poi_list_with_feature_nan))"
   ]
  },
  {
   "cell_type": "code",
   "execution_count": 16,
   "metadata": {
    "collapsed": false
   },
   "outputs": [
    {
     "name": "stdout",
     "output_type": "stream",
     "text": [
      "NaN number of LOCKHART EUGENE E         is :   20 / 21\n",
      "NaN number of WHALEY DAVID A            is :   18 / 21\n",
      "NaN number of WROBEL BRUCE              is :   18 / 21\n",
      "NaN number of THE TRAVEL AGENCY IN THE PARK is :   18 / 21\n",
      "NaN number of GRAMM WENDY L             is :   18 / 21\n",
      "NaN number of WODRASKA JOHN             is :   17 / 21\n",
      "NaN number of CLINE KENNETH W           is :   17 / 21\n",
      "NaN number of WAKEHAM JOHN              is :   17 / 21\n",
      "NaN number of SCRIMSHAW MATTHEW         is :   17 / 21\n",
      "NaN number of GILLIS JOHN               is :   17 / 21\n",
      "NaN number of SAVAGE FRANK              is :   17 / 21\n",
      "NaN number of LOWRY CHARLES P           is :   16 / 21\n",
      "NaN number of CHAN RONNIE               is :   16 / 21\n",
      "NaN number of URQUHART JOHN A           is :   16 / 21\n",
      "NaN number of MENDELSOHN JOHN           is :   16 / 21\n",
      "NaN number of MEYER JEROME J            is :   16 / 21\n",
      "NaN number of GATHMANN WILLIAM D        is :   16 / 21\n",
      "NaN number of PEREIRA PAULO V. FERRAZ   is :   16 / 21\n",
      "NaN number of BLAKE JR. NORMAN P        is :   16 / 21\n",
      "NaN number of CHRISTODOULOU DIOMEDES    is :   16 / 21\n",
      "NaN number of WINOKUR JR. HERBERT S     is :   16 / 21\n",
      "NaN number of YEAP SOON                 is :   16 / 21\n",
      "NaN number of FUGH JOHN L               is :   16 / 21\n",
      "NaN number of WALTERS GARETH W          is :   15 / 21\n",
      "NaN number of DUNCAN JOHN H             is :   15 / 21\n",
      "NaN number of LEMAISTRE CHARLES         is :   15 / 21\n",
      "NaN number of GRAY RODNEY               is :   15 / 21\n",
      "NaN number of NOLES JAMES L             is :   15 / 21\n",
      "NaN number of BADUM JAMES P             is :   15 / 21\n",
      "NaN number of BELFER ROBERT             is :   14 / 21\n",
      "NaN number of PRENTICE JAMES            is :   14 / 21\n",
      "NaN number of BERBERIAN DAVID           is :   13 / 21\n",
      "NaN number of BAZELIDES PHILIP J        is :   13 / 21\n",
      "NaN number of JAEDICKE ROBERT           is :   13 / 21\n",
      "NaN number of HIRKO JOSEPH              is :   13 / 21\n",
      "NaN number of MORDAUNT KRISTINA M       is :   12 / 21\n",
      "NaN number of LEWIS RICHARD             is :   12 / 21\n",
      "NaN number of POWERS WILLIAM            is :   12 / 21\n",
      "NaN number of KISHKILL JOSEPH G         is :   12 / 21\n",
      "NaN number of PIRO JIM                  is :   12 / 21\n",
      "NaN number of SULLIVAN-SHAKLOVITZ COLLEEN is :   12 / 21\n",
      "NaN number of CUMBERLAND MICHAEL S      is :   12 / 21\n",
      "NaN number of STABLER FRANK             is :   12 / 21\n",
      "NaN number of BROWN MICHAEL             is :   12 / 21\n",
      "NaN number of YEAGER F SCOTT            is :   12 / 21\n",
      "NaN number of HAYSLETT RODERICK J       is :   12 / 21\n",
      "NaN number of CORDES WILLIAM R          is :   11 / 21\n",
      "NaN number of WESTFAHL RICHARD K        is :   11 / 21\n",
      "NaN number of MCCARTY DANNY J           is :   11 / 21\n",
      "NaN number of KOPPER MICHAEL J          is :   11 / 21\n",
      "NaN number of GOLD JOSEPH               is :   11 / 21\n",
      "NaN number of MCDONALD REBECCA          is :   11 / 21\n",
      "NaN number of MORAN MICHAEL P           is :   11 / 21\n",
      "NaN number of OVERDYKE JR JERE C        is :   11 / 21\n",
      "NaN number of SHERRICK JEFFREY B        is :   11 / 21\n",
      "NaN number of FOWLER PEGGY              is :   11 / 21\n",
      "NaN number of WHITE JR THOMAS E         is :   11 / 21\n",
      "NaN number of HUGHES JAMES A            is :   11 / 21\n",
      "NaN number of PAI LOU L                 is :   11 / 21\n",
      "NaN number of ELLIOTT STEVEN            is :   10 / 21\n",
      "NaN number of UMANOFF ADAM S            is :   10 / 21\n",
      "NaN number of HAUG DAVID L              is :   10 / 21\n",
      "NaN number of ECHOLS JOHN B             is :   10 / 21\n",
      "NaN number of HAYES ROBERT E            is :   10 / 21\n",
      "NaN number of BUTTS ROBERT H            is :   10 / 21\n",
      "NaN number of GAHN ROBERT S             is :   10 / 21\n",
      "NaN number of FASTOW ANDREW S           is :   10 / 21\n",
      "NaN number of FOY JOE                   is :   10 / 21\n",
      "NaN number of DIMICHELE RICHARD G       is :   10 / 21\n",
      "NaN number of BAXTER JOHN C             is :    9 / 21\n",
      "NaN number of MEYER ROCKFORD G          is :    9 / 21\n",
      "NaN number of HORTON STANLEY C          is :    9 / 21\n",
      "NaN number of GIBBS DANA R              is :    9 / 21\n",
      "NaN number of LINDHOLM TOD A            is :    9 / 21\n",
      "NaN number of HERMANN ROBERT J          is :    9 / 21\n",
      "NaN number of DODSON KEITH              is :    9 / 21\n",
      "NaN number of BAY FRANKLIN R            is :    9 / 21\n",
      "NaN number of HUMPHREY GENE E           is :    8 / 21\n",
      "NaN number of REDMOND BRIAN L           is :    8 / 21\n",
      "NaN number of REYNOLDS LAWRENCE         is :    8 / 21\n",
      "NaN number of BHATNAGAR SANJAY          is :    8 / 21\n",
      "NaN number of METTS MARK                is :    7 / 21\n",
      "NaN number of SUNDE MARTIN              is :    7 / 21\n",
      "NaN number of BECK SALLY W              is :    7 / 21\n",
      "NaN number of LEFF DANIEL P             is :    7 / 21\n",
      "NaN number of DETMERING TIMOTHY J       is :    7 / 21\n",
      "NaN number of PICKERING MARK R          is :    7 / 21\n",
      "NaN number of TAYLOR MITCHELL S         is :    7 / 21\n",
      "NaN number of JACKSON CHARLENE R        is :    6 / 21\n",
      "NaN number of KITCHEN LOUISE            is :    6 / 21\n",
      "NaN number of HICKERSON GARY J          is :    6 / 21\n",
      "NaN number of SHAPIRO RICHARD S         is :    6 / 21\n",
      "NaN number of SHERRIFF JOHN R           is :    6 / 21\n",
      "NaN number of TOTAL                     is :    6 / 21\n",
      "NaN number of CARTER REBECCA C          is :    6 / 21\n",
      "NaN number of IZZO LAWRENCE L           is :    6 / 21\n",
      "NaN number of MARTIN AMANDA K           is :    6 / 21\n",
      "NaN number of MCMAHON JEFFREY           is :    5 / 21\n",
      "NaN number of BLACHMAN JEREMY M         is :    5 / 21\n",
      "NaN number of COLWELL WESLEY            is :    5 / 21\n",
      "NaN number of WALLS JR ROBERT H         is :    5 / 21\n",
      "NaN number of SHANKMAN JEFFREY A        is :    5 / 21\n",
      "NaN number of BERGSIEKER RICHARD P      is :    5 / 21\n",
      "NaN number of BIBI PHILIPPE A           is :    5 / 21\n",
      "NaN number of LAVORATO JOHN J           is :    5 / 21\n",
      "NaN number of BANNANTINE JAMES M        is :    5 / 21\n",
      "NaN number of SHELBY REX                is :    5 / 21\n",
      "NaN number of DEFFNER JOSEPH M          is :    5 / 21\n",
      "NaN number of WHALLEY LAWRENCE G        is :    5 / 21\n",
      "NaN number of MCCONNELL MICHAEL S       is :    5 / 21\n",
      "NaN number of DELAINEY DAVID W          is :    5 / 21\n",
      "NaN number of MCCLELLAN GEORGE          is :    5 / 21\n",
      "NaN number of BOWEN JR RAYMOND M        is :    5 / 21\n",
      "NaN number of FITZGERALD JAY L          is :    5 / 21\n",
      "NaN number of DURAN WILLIAM D           is :    5 / 21\n",
      "NaN number of THORN TERENCE H           is :    5 / 21\n",
      "NaN number of CALGER CHRISTOPHER F      is :    5 / 21\n",
      "NaN number of KAMINSKI WINCENTY J       is :    5 / 21\n",
      "NaN number of COX DAVID                 is :    5 / 21\n",
      "NaN number of SKILLING JEFFREY K        is :    5 / 21\n",
      "NaN number of KEAN STEVEN J             is :    5 / 21\n",
      "NaN number of BUCHANAN HAROLD G         is :    5 / 21\n",
      "NaN number of MURRAY JULIA H            is :    5 / 21\n",
      "NaN number of GARLAND C KEVIN           is :    5 / 21\n",
      "NaN number of DIETRICH JANET R          is :    5 / 21\n",
      "NaN number of FALLON JAMES B            is :    5 / 21\n",
      "NaN number of KOENIG MARK E             is :    5 / 21\n",
      "NaN number of TILNEY ELIZABETH A        is :    5 / 21\n",
      "NaN number of CAUSEY RICHARD A          is :    5 / 21\n",
      "NaN number of DONAHUE JR JEFFREY M      is :    5 / 21\n",
      "NaN number of GLISAN JR BEN F           is :    5 / 21\n",
      "NaN number of HANNON KEVIN P            is :    4 / 21\n",
      "NaN number of MULLER MARK S             is :    4 / 21\n",
      "NaN number of RIEKER PAULA H            is :    4 / 21\n",
      "NaN number of OLSON CINDY K             is :    4 / 21\n",
      "NaN number of BELDEN TIMOTHY N          is :    4 / 21\n",
      "NaN number of RICE KENNETH D            is :    4 / 21\n",
      "NaN number of WASAFF GEORGE             is :    4 / 21\n",
      "NaN number of SHARP VICTORIA T          is :    4 / 21\n",
      "NaN number of BUY RICHARD B             is :    4 / 21\n",
      "NaN number of PIPER GREGORY F           is :    3 / 21\n",
      "NaN number of DERRICK JR. JAMES V       is :    3 / 21\n",
      "NaN number of LAY KENNETH L             is :    2 / 21\n",
      "NaN number of HAEDICKE MARK E           is :    2 / 21\n",
      "NaN number of ALLEN PHILLIP K           is :    2 / 21\n",
      "NaN number of FREVERT MARK A            is :    2 / 21\n"
     ]
    }
   ],
   "source": [
    "nan_list = []\n",
    "for name, features in data_dict.iteritems():\n",
    "    nan_count = 0\n",
    "    for feature, value in features.iteritems():\n",
    "        if value=='NaN':\n",
    "            nan_count += 1\n",
    "    nan_list.append({'name':name,'cnt':nan_count})\n",
    "\n",
    "    \n",
    "nan_list.sort(key=lambda x:x['cnt'], reverse=True)\n",
    "for nan in nan_list:\n",
    "    print 'NaN number of {0:<25} is :   {1:>2} / {2}'.format(nan['name'], nan['cnt'], len(ALL_FEATURES)+2)"
   ]
  },
  {
   "cell_type": "markdown",
   "metadata": {},
   "source": [
    "LOCKHART EUGENE E, THE TRAVEL AGENCY IN THE PARK, TOTAL"
   ]
  },
  {
   "cell_type": "markdown",
   "metadata": {},
   "source": [
    "# Task 2: Remove outliers"
   ]
  },
  {
   "cell_type": "code",
   "execution_count": 121,
   "metadata": {
    "collapsed": false
   },
   "outputs": [
    {
     "name": "stdout",
     "output_type": "stream",
     "text": [
      "After removing outliers, new number of data point is 143\n"
     ]
    }
   ],
   "source": [
    "### Task 2: Remove outliers\n",
    "data_dict.pop( 'TOTAL', 0 ) # TOTAL 存储的是所有人的总和，因此为异常值\n",
    "data_dict.pop( 'LOCKHART EUGENE E', 0 )\n",
    "data_dict.pop( 'THE TRAVEL AGENCY IN THE PARK', 0 )\n",
    "\n",
    "print 'After removing outliers, new number of data point is {0}'.format(len(data_dict))"
   ]
  },
  {
   "cell_type": "markdown",
   "metadata": {},
   "source": [
    "# Task 3: Create new feature(s)"
   ]
  },
  {
   "cell_type": "code",
   "execution_count": 123,
   "metadata": {
    "collapsed": false
   },
   "outputs": [],
   "source": [
    "# 先去除NaN数量过多的一些特征\n",
    "features_list_bak = ['poi','salary', 'to_messages',  'total_payments', 'exercised_stock_options', 'bonus', \n",
    "                 'restricted_stock', 'shared_receipt_with_poi', 'total_stock_value', 'expenses', \n",
    "                 'from_messages', 'other', 'from_this_person_to_poi', 'deferred_income', 'long_term_incentive', \n",
    "                 'from_poi_to_this_person', 'poi_message_percentage']"
   ]
  },
  {
   "cell_type": "code",
   "execution_count": 124,
   "metadata": {
    "collapsed": false
   },
   "outputs": [],
   "source": [
    "### Task 3: Create new feature(s)\n",
    "### Store to my_dataset for easy export below.\n",
    "my_dataset = data_dict\n",
    "\n",
    "for k,v in my_dataset.iteritems():\n",
    "    to_messages = v['to_messages'] \n",
    "    from_poi_to_this_person = v['from_poi_to_this_person']\n",
    "    from_messages = v['from_messages']\n",
    "    from_this_person_to_poi = v['from_this_person_to_poi']\n",
    "\n",
    "    if to_messages == 'NaN' or from_poi_to_this_person == 'NaN' or from_messages == 'NaN' or from_this_person_to_poi == 'NaN':\n",
    "        v['poi_message_percentage'] = 'NaN'\n",
    "    else:\n",
    "        poi_message_percentage = 1.0*(from_poi_to_this_person+from_this_person_to_poi/(from_messages+to_messages))\n",
    "        v['poi_message_percentage'] = poi_message_percentage\n",
    "    \n",
    "    ### Deal with deferred_income\n",
    "    if v['deferred_income']=='NaN':\n",
    "        v['deferred_income'] = 'NaN'\n",
    "    elif v['deferred_income']<0:\n",
    "        v['deferred_income'] = abs(v['deferred_income'])\n",
    "    else:\n",
    "        pass\n",
    "    \n",
    "    ### Deal with restricted_stock : 输入错误，应该是restricted_stock_deferred为负数\n",
    "    if k=='BHATNAGAR SANJAY':\n",
    "        v['restricted_stock'] = abs(v['restricted_stock'])\n",
    "\n",
    "    if k=='BELFER ROBERT':\n",
    "        v['total_stock_value'] = abs(v['total_stock_value'])\n",
    "    #print poi_message_percentage"
   ]
  },
  {
   "cell_type": "code",
   "execution_count": 125,
   "metadata": {
    "collapsed": false
   },
   "outputs": [],
   "source": [
    "### Extract features and labels from dataset for local testing\n",
    "data = featureFormat(my_dataset, features_list_bak, sort_keys = True)\n",
    "labels, features = targetFeatureSplit(data)"
   ]
  },
  {
   "cell_type": "code",
   "execution_count": 40,
   "metadata": {
    "collapsed": false
   },
   "outputs": [
    {
     "data": {
      "image/png": "[encoded data removed]",
      "text/plain": [
       "<matplotlib.figure.Figure at 0x140323c8>"
      ]
     },
     "metadata": {
      "image/png": {
       "height": 263,
       "width": 419
      }
     },
     "output_type": "display_data"
    },
    {
     "data": {
      "image/png": "[encoded data removed]",
      "text/plain": [
       "<matplotlib.figure.Figure at 0x15c27ac8>"
      ]
     },
     "metadata": {
      "image/png": {
       "height": 272,
       "width": 387
      }
     },
     "output_type": "display_data"
    },
    {
     "data": {
      "image/png": "[encoded data removed]",
      "text/plain": [
       "<matplotlib.figure.Figure at 0x1643e0f0>"
      ]
     },
     "metadata": {
      "image/png": {
       "height": 264,
       "width": 397
      }
     },
     "output_type": "display_data"
    }
   ],
   "source": [
    "def draw_2features_scatter(X_id, Y_id):\n",
    "    import matplotlib.pyplot as plt\n",
    "    for point in features:\n",
    "        X = point[X_id]\n",
    "        Y = point[Y_id]\n",
    "        plt.scatter( X, Y )\n",
    "    plt.xlabel(features_list[1+X_id])\n",
    "    plt.ylabel(features_list[1+Y_id])\n",
    "    plt.show()\n",
    "\n",
    "draw_2features_scatter(X_id=0, Y_id=1)\n",
    "draw_2features_scatter(X_id=2, Y_id=3)\n",
    "draw_2features_scatter(X_id=4, Y_id=5)"
   ]
  },
  {
   "cell_type": "markdown",
   "metadata": {},
   "source": [
    "# Task 4: Try a varity of classifiers"
   ]
  },
  {
   "cell_type": "code",
   "execution_count": 126,
   "metadata": {
    "collapsed": false
   },
   "outputs": [],
   "source": [
    "### Task 4: Try a varity of classifiers\n",
    "### Please name your classifier clf for easy export below.\n",
    "### Note that if you want to do PCA or other multi-stage operations,\n",
    "### you'll need to use Pipelines. For more info:\n",
    "### http://scikit-learn.org/stable/modules/pipeline.html\n",
    "\n",
    "# Provided to give you a starting point. Try a variety of classifiers.\n",
    "\n",
    "from sklearn.naive_bayes import GaussianNB\n",
    "from sklearn.tree import DecisionTreeClassifier\n",
    "from sklearn.svm import SVC\n",
    "\n",
    "clf_NB = GaussianNB()\n",
    "param_NB = dict(reduce_dim__n_components=[2,3,4])\n",
    "\n",
    "clf_DT = DecisionTreeClassifier()\n",
    "param_DT = dict(reduce_dim__n_components=[2,3,4], clf__min_samples_split=[20, 40, 80, 100])\n",
    "\n",
    "clf_SVM = SVC()\n",
    "param_SVM = dict(reduce_dim__n_components=[2,3,4], clf__kernel=['linear', 'rbf', 'sigmoid'], clf__C=[1,10,100,1000,10000])"
   ]
  },
  {
   "cell_type": "code",
   "execution_count": 127,
   "metadata": {
    "collapsed": false
   },
   "outputs": [],
   "source": [
    "# Auto param selection.\n",
    "from sklearn.model_selection import GridSearchCV\n",
    "from sklearn.pipeline import Pipeline\n",
    "from sklearn.decomposition import PCA\n",
    "from sklearn.preprocessing import MinMaxScaler   \n",
    "\n",
    "def param_selection(clf, param_grid, X, Y):\n",
    "    estimators = [('scaler', MinMaxScaler()), ('reduce_dim', PCA()), ('clf', clf)]\n",
    "    model = Pipeline(estimators)\n",
    "    \n",
    "    selection = GridSearchCV(model, param_grid=param_grid, scoring='recall', cv=5)\n",
    "    selection.fit(X, Y)\n",
    "    print \"Best params:\"\n",
    "    print selection.best_params_\n",
    "    print\n",
    "    print \"Best estimator steps:\"\n",
    "    print selection.best_estimator_.named_steps\n"
   ]
  },
  {
   "cell_type": "markdown",
   "metadata": {},
   "source": [
    "# Task 5: Tune your classifier"
   ]
  },
  {
   "cell_type": "code",
   "execution_count": 128,
   "metadata": {
    "collapsed": false
   },
   "outputs": [
    {
     "name": "stdout",
     "output_type": "stream",
     "text": [
      "(21.025541007879092, 'total_stock_value')\n",
      "(20.86041938003126, 'exercised_stock_options')\n",
      "(12.726584754617214, 'bonus')\n",
      "(11.392957451345879, 'deferred_income')\n",
      "(10.782364795127885, 'salary')\n",
      "(9.6717798500472689, 'expenses')\n",
      "(7.68194874810795, 'total_payments')\n",
      "(6.9730938153919544, 'restricted_stock')\n",
      "(6.2920659115092912, 'long_term_incentive')\n",
      "(6.0952665591715922, 'shared_receipt_with_poi')\n",
      "(4.6849337562111231, 'other')\n",
      "(2.4657311759274636, 'from_poi_to_this_person')\n",
      "(2.4657311759274636, 'poi_message_percentage')\n",
      "(2.1107422153306241, 'from_this_person_to_poi')\n",
      "(1.3212555075117851, 'to_messages')\n",
      "(0.16726274531112353, 'from_messages')\n",
      "\n",
      "{'k': 11, 'score_func': <function f_classif at 0x0000000014291F28>}\n"
     ]
    }
   ],
   "source": [
    "### Task 5: Tune your classifier to achieve better than .3 precision and recall \n",
    "### using our testing script. Check the tester.py script in the final project\n",
    "### folder for details on the evaluation method, especially the test_classifier\n",
    "### function. Because of the small size of the dataset, the script uses\n",
    "### stratified shuffle split cross validation. For more info: \n",
    "### http://scikit-learn.org/stable/modules/generated/sklearn.cross_validation.StratifiedShuffleSplit.html\n",
    "\n",
    "# Example starting point. Try investigating other evaluation techniques!\n",
    "#from sklearn.cross_validation import train_test_split\n",
    "#features_train, features_test, labels_train, labels_test = \\\n",
    "#   train_test_split(features, labels, test_size=0.1, random_state=42) \n",
    "features_train = []\n",
    "features_test  = []\n",
    "labels_train   = []\n",
    "labels_test    = []\n",
    "from sklearn.cross_validation import KFold\n",
    "kf = KFold(len(labels), 10, shuffle=True, random_state=42) #数据数量，k折交叉验证, 打乱(随机化)\n",
    "for train_indices,  test_indices in kf:\n",
    "    features_train = [features[ii] for ii in train_indices]\n",
    "    features_test = [features[ii] for ii in test_indices]\n",
    "    labels_train = [labels[ii] for ii in train_indices]\n",
    "    labels_test = [labels[ii] for ii in test_indices]\n",
    "\n",
    "\n",
    "# Feature selection\n",
    "from sklearn.feature_selection import SelectKBest\n",
    "from sklearn.feature_selection import f_classif, chi2\n",
    "feature_selection = SelectKBest(f_classif, k=11)\n",
    "\n",
    "features_train_new = MinMaxScaler().fit_transform(features_train)\n",
    "feature_selection.fit(features_train_new, labels_train)\n",
    "\n",
    "\n",
    "selection_result = zip(feature_selection.scores_, features_list_bak[1:])\n",
    "selection_result.sort(key=lambda x:x[0], reverse=True) \n",
    "\n",
    "for s in selection_result:\n",
    "    print s\n",
    "\n",
    "print\n",
    "print feature_selection.get_params()"
   ]
  },
  {
   "cell_type": "code",
   "execution_count": 129,
   "metadata": {
    "collapsed": false
   },
   "outputs": [],
   "source": [
    "features_list = ['poi','total_stock_value','exercised_stock_options',\n",
    "                'bonus','deferred_income','salary','expenses','total_payments',\n",
    "                 'restricted_stock','long_term_incentive','shared_receipt_with_poi','other',\n",
    "                 'from_poi_to_this_person','poi_message_percentage']\n",
    "#features_list = ['poi','total_stock_value','exercised_stock_options',\n",
    "#                'bonus','salary','long_term_incentive','shared_receipt_with_poi','deferred_income',\n",
    "#                'from_poi_to_this_person','poi_message_percentage','restricted_stock','total_payments']\n",
    "### Extract features and labels from dataset for local testing\n",
    "data = featureFormat(my_dataset, features_list, sort_keys = True)\n",
    "labels, features = targetFeatureSplit(data)\n",
    "\n",
    "features_train = []\n",
    "features_test  = []\n",
    "labels_train   = []\n",
    "labels_test    = []\n",
    "from sklearn.cross_validation import KFold\n",
    "kf = KFold(len(labels), 10, shuffle=True, random_state=42) #数据数量，k折交叉验证, 打乱(随机化)\n",
    "for train_indices,  test_indices in kf:\n",
    "    features_train = [features[ii] for ii in train_indices]\n",
    "    features_test = [features[ii] for ii in test_indices]\n",
    "    labels_train = [labels[ii] for ii in train_indices]\n",
    "    labels_test = [labels[ii] for ii in test_indices]"
   ]
  },
  {
   "cell_type": "code",
   "execution_count": 130,
   "metadata": {
    "collapsed": false
   },
   "outputs": [
    {
     "name": "stdout",
     "output_type": "stream",
     "text": [
      "Best params:\n",
      "{'reduce_dim__n_components': 4}\n",
      "\n",
      "Best estimator steps:\n",
      "{'clf': GaussianNB(priors=None), 'reduce_dim': PCA(copy=True, iterated_power='auto', n_components=4, random_state=None,\n",
      "  svd_solver='auto', tol=0.0, whiten=False), 'scaler': MinMaxScaler(copy=True, feature_range=(0, 1))}\n",
      "param selection time: 0.125 s\n"
     ]
    }
   ],
   "source": [
    "from time import time\n",
    "t0 = time()\n",
    "param_selection(clf_NB, param_NB, features_train, labels_train)\n",
    "print 'param selection time:', round(time()-t0, 3), \"s\""
   ]
  },
  {
   "cell_type": "code",
   "execution_count": 131,
   "metadata": {
    "collapsed": false
   },
   "outputs": [
    {
     "name": "stdout",
     "output_type": "stream",
     "text": [
      "Best params:\n",
      "{'reduce_dim__n_components': 2, 'clf__min_samples_split': 20}\n",
      "\n",
      "Best estimator steps:\n",
      "{'clf': DecisionTreeClassifier(class_weight=None, criterion='gini', max_depth=None,\n",
      "            max_features=None, max_leaf_nodes=None,\n",
      "            min_impurity_decrease=0.0, min_impurity_split=None,\n",
      "            min_samples_leaf=1, min_samples_split=20,\n",
      "            min_weight_fraction_leaf=0.0, presort=False, random_state=None,\n",
      "            splitter='best'), 'reduce_dim': PCA(copy=True, iterated_power='auto', n_components=2, random_state=None,\n",
      "  svd_solver='auto', tol=0.0, whiten=False), 'scaler': MinMaxScaler(copy=True, feature_range=(0, 1))}\n",
      "param selection time: 0.421 s\n"
     ]
    }
   ],
   "source": [
    "t0 = time()\n",
    "param_selection(clf_DT, param_DT, features_train, labels_train)\n",
    "print 'param selection time:', round(time()-t0, 3), \"s\""
   ]
  },
  {
   "cell_type": "code",
   "execution_count": 132,
   "metadata": {
    "collapsed": false
   },
   "outputs": [
    {
     "name": "stdout",
     "output_type": "stream",
     "text": [
      "Best params:\n",
      "{'clf__C': 10000, 'reduce_dim__n_components': 2, 'clf__kernel': 'sigmoid'}\n",
      "\n",
      "Best estimator steps:\n",
      "{'clf': SVC(C=10000, cache_size=200, class_weight=None, coef0=0.0,\n",
      "  decision_function_shape='ovr', degree=3, gamma='auto', kernel='sigmoid',\n",
      "  max_iter=-1, probability=False, random_state=None, shrinking=True,\n",
      "  tol=0.001, verbose=False), 'reduce_dim': PCA(copy=True, iterated_power='auto', n_components=2, random_state=None,\n",
      "  svd_solver='auto', tol=0.0, whiten=False), 'scaler': MinMaxScaler(copy=True, feature_range=(0, 1))}\n",
      "param selection time: 4.453 s\n"
     ]
    }
   ],
   "source": [
    "t0 = time()\n",
    "param_selection(clf_SVM, param_SVM, features_train, labels_train)\n",
    "print 'param selection time:', round(time()-t0, 3), \"s\""
   ]
  },
  {
   "cell_type": "code",
   "execution_count": 133,
   "metadata": {
    "collapsed": false
   },
   "outputs": [],
   "source": [
    "# Build model\n",
    "### Use Scaler(), PCA(), GridSerchCV() to make model.\n",
    "def NB_model():\n",
    "    estimators = [('scaler', MinMaxScaler()), ('reduce_dim', PCA(n_components=4)), ('clf', GaussianNB())]\n",
    "    model = Pipeline(estimators)\n",
    "    return model\n",
    "\n",
    "def DT_model():\n",
    "    estimators = [('scaler', MinMaxScaler()), ('reduce_dim', PCA(n_components=2)), \n",
    "                  ('clf', DecisionTreeClassifier(min_samples_split=20))]\n",
    "    model = Pipeline(estimators)\n",
    "    return model\n",
    "\n",
    "def SVM_model():\n",
    "    estimators = [('scaler', MinMaxScaler()), ('reduce_dim', PCA(n_components=2)), \n",
    "                  ('clf', SVC(C=10000, kernel='sigmoid'))]\n",
    "    model = Pipeline(estimators)\n",
    "    return model\n"
   ]
  },
  {
   "cell_type": "code",
   "execution_count": 134,
   "metadata": {
    "collapsed": true
   },
   "outputs": [],
   "source": [
    "def train_model(model):\n",
    "    model.fit(features_train, labels_train)\n",
    "\n",
    "    pred = model.predict(features_test)\n",
    "\n",
    "    from sklearn.metrics import accuracy_score\n",
    "    acc = accuracy_score(pred, labels_test)\n",
    "    print \"ACC:{0}\".format(acc)"
   ]
  },
  {
   "cell_type": "code",
   "execution_count": 135,
   "metadata": {
    "collapsed": false
   },
   "outputs": [
    {
     "name": "stdout",
     "output_type": "stream",
     "text": [
      "ACC:0.714285714286\n",
      "ACC:0.785714285714\n",
      "ACC:0.785714285714\n"
     ]
    }
   ],
   "source": [
    "nb_model = NB_model()\n",
    "dt_model = DT_model()\n",
    "svm_model = SVM_model()\n",
    "\n",
    "train_model(nb_model)\n",
    "train_model(dt_model)\n",
    "train_model(svm_model)"
   ]
  },
  {
   "cell_type": "markdown",
   "metadata": {},
   "source": [
    "# Task 6: Dump your classifier, dataset, and features_list"
   ]
  },
  {
   "cell_type": "code",
   "execution_count": 136,
   "metadata": {
    "collapsed": true
   },
   "outputs": [],
   "source": [
    "### Task 6: Dump your classifier, dataset, and features_list so anyone can\n",
    "### check your results. You do not need to change anything below, but make sure\n",
    "### that the version of poi_id.py that you submit can be run on its own and\n",
    "### generates the necessary .pkl files for validating your results.\n",
    "clf = nb_model\n",
    "dump_classifier_and_data(clf, my_dataset, features_list)"
   ]
  },
  {
   "cell_type": "code",
   "execution_count": 137,
   "metadata": {
    "collapsed": false
   },
   "outputs": [
    {
     "name": "stdout",
     "output_type": "stream",
     "text": [
      "Pipeline(memory=None,\n",
      "     steps=[('scaler', MinMaxScaler(copy=True, feature_range=(0, 1))), ('reduce_dim', PCA(copy=True, iterated_power='auto', n_components=4, random_state=None,\n",
      "  svd_solver='auto', tol=0.0, whiten=False)), ('clf', GaussianNB(priors=None))])\n",
      "\tAccuracy: 0.83267\tPrecision: 0.35378\tRecall: 0.30850\tF1: 0.32959\tF2: 0.31661\n",
      "\tTotal predictions: 15000\tTrue positives:  617\tFalse positives: 1127\tFalse negatives: 1383\tTrue negatives: 11873\n",
      "\n"
     ]
    }
   ],
   "source": [
    "import tester as t\n",
    "\n",
    "t.main()"
   ]
  },
  {
   "cell_type": "markdown",
   "metadata": {},
   "source": [
    "# Try another Algorithm"
   ]
  },
  {
   "cell_type": "code",
   "execution_count": 138,
   "metadata": {
    "collapsed": false,
    "scrolled": false
   },
   "outputs": [
    {
     "name": "stdout",
     "output_type": "stream",
     "text": [
      "Pipeline(memory=None,\n",
      "     steps=[('scaler', MinMaxScaler(copy=True, feature_range=(0, 1))), ('reduce_dim', PCA(copy=True, iterated_power='auto', n_components=2, random_state=None,\n",
      "  svd_solver='auto', tol=0.0, whiten=False)), ('clf', DecisionTreeClassifier(class_weight=None, criterion='gini', max_depth=None,\n",
      "            max_...      min_weight_fraction_leaf=0.0, presort=False, random_state=None,\n",
      "            splitter='best'))])\n",
      "\tAccuracy: 0.80760\tPrecision: 0.19107\tRecall: 0.13700\tF1: 0.15958\tF2: 0.14522\n",
      "\tTotal predictions: 15000\tTrue positives:  274\tFalse positives: 1160\tFalse negatives: 1726\tTrue negatives: 11840\n",
      "\n"
     ]
    }
   ],
   "source": [
    "clf = dt_model\n",
    "dump_classifier_and_data(clf, my_dataset, features_list)\n",
    "t.main()"
   ]
  },
  {
   "cell_type": "code",
   "execution_count": 139,
   "metadata": {
    "collapsed": false
   },
   "outputs": [
    {
     "name": "stdout",
     "output_type": "stream",
     "text": [
      "Pipeline(memory=None,\n",
      "     steps=[('scaler', MinMaxScaler(copy=True, feature_range=(0, 1))), ('reduce_dim', PCA(copy=True, iterated_power='auto', n_components=2, random_state=None,\n",
      "  svd_solver='auto', tol=0.0, whiten=False)), ('clf', SVC(C=10000, cache_size=200, class_weight=None, coef0=0.0,\n",
      "  decision_function_shape='ovr', degree=3, gamma='auto', kernel='sigmoid',\n",
      "  max_iter=-1, probability=False, random_state=None, shrinking=True,\n",
      "  tol=0.001, verbose=False))])\n",
      "\tAccuracy: 0.81893\tPrecision: 0.31178\tRecall: 0.29650\tF1: 0.30395\tF2: 0.29943\n",
      "\tTotal predictions: 15000\tTrue positives:  593\tFalse positives: 1309\tFalse negatives: 1407\tTrue negatives: 11691\n",
      "\n"
     ]
    }
   ],
   "source": [
    "clf = svm_model\n",
    "dump_classifier_and_data(clf, my_dataset, features_list)\n",
    "t.main()"
   ]
  },
  {
   "cell_type": "code",
   "execution_count": null,
   "metadata": {
    "collapsed": true
   },
   "outputs": [],
   "source": []
  }
 ],
 "metadata": {
  "kernelspec": {
   "display_name": "Python 2",
   "language": "python",
   "name": "python2"
  },
  "language_info": {
   "codemirror_mode": {
    "name": "ipython",
    "version": 2
   },
   "file_extension": ".py",
   "mimetype": "text/x-python",
   "name": "python",
   "nbconvert_exporter": "python",
   "pygments_lexer": "ipython2",
   "version": "2.7.13"
  }
 },
 "nbformat": 4,
 "nbformat_minor": 2
}
