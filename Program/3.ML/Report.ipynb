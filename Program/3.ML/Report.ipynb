{
 "cells": [
  {
   "cell_type": "markdown",
   "metadata": {},
   "source": [
    "### 1.\t向我们总结此项目的目标以及机器学习对于实现此目标有何帮助。作为答案的部分，提供一些数据集背景信息以及这些信息如何用于回答项目问题。你在获得数据时它们是否包含任何异常值，你是如何进行处理的？【相关标准项：“数据探索”，“异常值调查”】"
   ]
  },
  {
   "cell_type": "markdown",
   "metadata": {},
   "source": [
    "*数据背景: 数据集包含财务特征与邮件特征。  \n",
    "财务特征具有以下内容：薪水、延期支付、总支付、贷款、奖金、限制性股票延期 、延期收入、总股票价值、税金、行使股票期权、长期激励 、限制性股票、董事费、其他。(单位均是美元）  \n",
    "邮件特征具有以下内容：发送邮件水量、收到邮件数量、从POI获取的邮件、发送给POI的邮件、邮件地址、与POI共享的收据。（除邮件地址外、其他都是邮件的数量）"
   ]
  },
  {
   "cell_type": "markdown",
   "metadata": {},
   "source": [
    "*数据集内容：  \n",
    "数据集内共146个样本（每个样本包含财务特征、邮件特征、是否POI标记等信息。）、其中POI数量18个，非POI数128个。  \n",
    "  \n",
    "特征值情况如下所示:   \n",
    "其中loan_advances, restricted_stock_deferred, deferral_payments, director_fees特征的NaN值很多，因此剔除出选择的特征范围。  \n"
   ]
  },
  {
   "cell_type": "code",
   "execution_count": null,
   "metadata": {
    "collapsed": true
   },
   "outputs": [],
   "source": [
    "# 特征值情况： \n",
    "NaN number of feature : salary : 51\n",
    "NaN number of feature : to_messages : 60\n",
    "NaN number of feature : deferral_payments : 107\n",
    "NaN number of feature : total_payments : 21\n",
    "NaN number of feature : exercised_stock_options : 44\n",
    "NaN number of feature : bonus : 64\n",
    "NaN number of feature : restricted_stock : 36\n",
    "NaN number of feature : shared_receipt_with_poi : 60\n",
    "NaN number of feature : restricted_stock_deferred : 128\n",
    "NaN number of feature : total_stock_value : 20\n",
    "NaN number of feature : expenses : 51\n",
    "NaN number of feature : loan_advances : 142\n",
    "NaN number of feature : from_messages : 60\n",
    "NaN number of feature : other : 53\n",
    "NaN number of feature : from_this_person_to_poi : 60\n",
    "NaN number of feature : director_fees : 129\n",
    "NaN number of feature : deferred_income : 97\n",
    "NaN number of feature : long_term_incentive : 80\n",
    "NaN number of feature : from_poi_to_this_person : 60\n",
    "\n",
    "Total POI number is 18\n",
    "poi with NaN salary value: 1\n",
    "poi with NaN to_messages value: 4\n",
    "poi with NaN deferral_payments value: 13\n",
    "poi with NaN total_payments value: 0\n",
    "poi with NaN exercised_stock_options value: 6\n",
    "poi with NaN bonus value: 2\n",
    "poi with NaN restricted_stock value: 1\n",
    "poi with NaN shared_receipt_with_poi value: 4\n",
    "poi with NaN restricted_stock_deferred value: 18\n",
    "poi with NaN total_stock_value value: 0\n",
    "poi with NaN expenses value: 0\n",
    "poi with NaN loan_advances value: 17\n",
    "poi with NaN from_messages value: 4\n",
    "poi with NaN other value: 0\n",
    "poi with NaN from_this_person_to_poi value: 4\n",
    "poi with NaN director_fees value: 18\n",
    "poi with NaN deferred_income value: 7\n",
    "poi with NaN long_term_incentive value: 6\n",
    "poi with NaN from_poi_to_this_person value: 4"
   ]
  },
  {
   "cell_type": "markdown",
   "metadata": {},
   "source": [
    "*项目内使用的特征数量  \n",
    "本次项目中使用的特征：'total_stock_value','exercised_stock_options',\n",
    "                'bonus','deferred_income','salary','expenses','total_payments',\n",
    "                 'restricted_stock','long_term_incentive','shared_receipt_with_poi','other',\n",
    "                 'from_poi_to_this_person','poi_message_percentage'"
   ]
  },
  {
   "cell_type": "markdown",
   "metadata": {},
   "source": [
    "*异常值处理  \n",
    "1.进行处理时，根据散点图作图，发现财务数据存在异常值；检查enron61702insiderpay.pdf文件后，发现异常值原因是数据集中将“合计总数”也作为一个样本，与个人数据混合在一起。处理方式是手动剔除该异常数据。  \n",
    "2.将每个人的NaN数据个数打印出来（见下一段落的数据表），发现 LOCKHART EUGENE E除了POI值不是NaN，其他特征都是NaN，手动剔除该用户。  \n",
    "3.发现 THE TRAVEL AGENCY IN THE PARK不是人名，手动剔除该数据。  \n",
    "4.发现 BHATNAGAR SANJAY 的 restricted_stock股票价值为负数，检查pdf文件，应该为正值，处理方式是修改为正数；  \n",
    "5.发现 BELFER ROBERT 的 total_stock_value 总股票价值为负数，检查pdf文件，应该为正值，处理方式是修改为正数；  \n",
    "  \n",
    "剔除后的样本数为143。"
   ]
  },
  {
   "cell_type": "code",
   "execution_count": null,
   "metadata": {
    "collapsed": true
   },
   "outputs": [],
   "source": [
    "NaN number of LOCKHART EUGENE E         is :   20 / 21\n",
    "NaN number of WHALEY DAVID A            is :   18 / 21\n",
    "NaN number of WROBEL BRUCE              is :   18 / 21\n",
    "NaN number of THE TRAVEL AGENCY IN THE PARK is :   18 / 21\n",
    "NaN number of GRAMM WENDY L             is :   18 / 21\n",
    "NaN number of WODRASKA JOHN             is :   17 / 21\n",
    "NaN number of CLINE KENNETH W           is :   17 / 21\n",
    "NaN number of WAKEHAM JOHN              is :   17 / 21\n",
    "NaN number of SCRIMSHAW MATTHEW         is :   17 / 21\n",
    "NaN number of GILLIS JOHN               is :   17 / 21\n",
    "NaN number of SAVAGE FRANK              is :   17 / 21\n",
    "..."
   ]
  },
  {
   "cell_type": "markdown",
   "metadata": {},
   "source": [
    "### 2.\t你最终在你的 POI 标识符中使用了什么特征，你使用了什么筛选过程来挑选它们？你是否需要进行任何缩放？为什么？作为任务的一部分，你应该尝试设计自己的特征，而非使用数据集中现成的——解释你尝试创建的特征及其基本原理。（你不一定要在最后的分析中使用它，而只设计并测试它）。在你的特征选择步骤，如果你使用了算法（如决策树），请也给出所使用特征的特征重要性；如果你使用了自动特征选择函数（如 SelectBest），请报告特征得分及你所选的参数值的原因。【相关标准项：“创建新特征”、“适当缩放特征”、“智能选择功能”】"
   ]
  },
  {
   "cell_type": "markdown",
   "metadata": {},
   "source": [
    "*特征选择：  \n",
    "本次项目中使用了13个特征：'total_stock_value','exercised_stock_options',\n",
    "                'bonus','deferred_income','salary','expenses','total_payments',\n",
    "                 'restricted_stock','long_term_incentive','shared_receipt_with_poi','other',\n",
    "                 'from_poi_to_this_person','poi_message_percentage'\n"
   ]
  },
  {
   "cell_type": "markdown",
   "metadata": {},
   "source": [
    "*选择依据：  \n",
    "1.POI一般在公司中具有一定的权力与地位，因此相应的具有更多的现金流水（收入）。对应到财务特征，即为薪水、行使股票期权、奖金、税金与贷款等特征。对每一个特征检查NaN后，优先剔除含有大量NaN值的特征：loan_advances, restricted_stock_deferred, deferral_payments, director_fees。  \n",
    "2.在1的基础上使用SelectKBest，根据返回的重要性排序后，选取前13个特征。"
   ]
  },
  {
   "cell_type": "code",
   "execution_count": null,
   "metadata": {
    "collapsed": true
   },
   "outputs": [],
   "source": [
    "(21.025541007879092, 'total_stock_value')\n",
    "(20.86041938003126, 'exercised_stock_options')\n",
    "(12.726584754617214, 'bonus')\n",
    "(11.392957451345879, 'deferred_income')\n",
    "(10.782364795127885, 'salary')\n",
    "(9.6717798500472689, 'expenses')\n",
    "(7.68194874810795, 'total_payments')\n",
    "(6.9730938153919544, 'restricted_stock')\n",
    "(6.2920659115092912, 'long_term_incentive')\n",
    "(6.0952665591715922, 'shared_receipt_with_poi')\n",
    "(4.6849337562111231, 'other')\n",
    "(2.4657311759274636, 'from_poi_to_this_person')\n",
    "(2.4657311759274636, 'poi_message_percentage')\n",
    "(2.1107422153306241, 'from_this_person_to_poi')\n",
    "(1.3212555075117851, 'to_messages')\n",
    "(0.16726274531112353, 'from_messages')"
   ]
  },
  {
   "cell_type": "markdown",
   "metadata": {},
   "source": [
    "*特征缩放：  \n",
    "由于有些模型需要计算不同特征之间的“距离”，而不同特征的单位、分布范围不同，因此需要进行特征缩放。"
   ]
  },
  {
   "cell_type": "markdown",
   "metadata": {},
   "source": [
    "*特征设计：  \n",
    "poi_message_percentage = POI收发邮件 / 总收发邮件\n",
    "我的考虑是POI人员之间应该具有高的交互性，因此可以体现在POI邮件数量占的百分比上, 且认为收到POI邮件越多。  "
   ]
  },
  {
   "cell_type": "markdown",
   "metadata": {},
   "source": [
    "### 3.\t你最终使用了什么算法？你还尝试了其他什么算法？不同算法之间的模型性能有何差异？【相关标准项：“选择算法”】"
   ]
  },
  {
   "cell_type": "markdown",
   "metadata": {},
   "source": [
    "*算法选择：  \n",
    "最终选择了Gaussian naive bayes算法。还尝试了SVM算法、决策树算法。 模型性能如下："
   ]
  },
  {
   "cell_type": "markdown",
   "metadata": {},
   "source": [
    "Bayes:  \n",
    "Accuracy: 0.83267\tPrecision: 0.35378\tRecall: 0.30850\tF1: 0.32959\tF2: 0.31661\n"
   ]
  },
  {
   "cell_type": "markdown",
   "metadata": {},
   "source": [
    "决策树:  \n",
    "Accuracy: 0.80760\tPrecision: 0.19107\tRecall: 0.13700\tF1: 0.15958\tF2: 0.14522\n"
   ]
  },
  {
   "cell_type": "markdown",
   "metadata": {},
   "source": [
    "SVM:  \n",
    "Accuracy: 0.81893\tPrecision: 0.31178\tRecall: 0.29650\tF1: 0.30395\tF2: 0.29943\n"
   ]
  },
  {
   "cell_type": "markdown",
   "metadata": {},
   "source": [
    "### 4.\t调整算法的参数是什么意思，如果你不这样做会发生什么？你是如何调整特定算法的参数的？（一些算法没有需要调整的参数 – 如果你选择的算法是这种情况，指明并简要解释对于你最终未选择的模型或需要参数调整的不同模型，例如决策树分类器，你会怎么做）。【相关标准项：“调整算法”】"
   ]
  },
  {
   "cell_type": "markdown",
   "metadata": {},
   "source": [
    "*调整算法参数是指通过调整算法的一些参数，使得拟合结果不过拟合，也不会欠拟合，且具有较好的泛化能力。  \n",
    "\n",
    "*我通过GridSearchCV执行了自动参数选择。对于决策树主要调整了最小划分数量；对于SVM，主要调整了内核参数与C值。  \n"
   ]
  },
  {
   "cell_type": "code",
   "execution_count": null,
   "metadata": {
    "collapsed": true
   },
   "outputs": [],
   "source": [
    "Bayes:  \n",
    "Best params:\n",
    "{'reduce_dim__n_components': 4}"
   ]
  },
  {
   "cell_type": "code",
   "execution_count": null,
   "metadata": {
    "collapsed": true
   },
   "outputs": [],
   "source": [
    "决策树：  \n",
    "Best params:\n",
    "{'reduce_dim__n_components': 2, 'clf__min_samples_split': 20}"
   ]
  },
  {
   "cell_type": "code",
   "execution_count": null,
   "metadata": {
    "collapsed": true
   },
   "outputs": [],
   "source": [
    "SVM:  \n",
    "Best params:\n",
    "{'clf__C': 10000, 'reduce_dim__n_components': 2, 'clf__kernel': 'sigmoid'}"
   ]
  },
  {
   "cell_type": "markdown",
   "metadata": {},
   "source": [
    "### 5.\t什么是验证，未正确执行情况下的典型错误是什么？你是如何验证你的分析的？【相关标准项：“验证策略”】"
   ]
  },
  {
   "cell_type": "markdown",
   "metadata": {},
   "source": [
    "*验证是指在进行模型拟合后，使用测试数据对模型的效果进行评价。  \n",
    "\n",
    "*典型的错误是过拟合，因为不进行验证的情况下，将所有数据进行模型训练，会导致模型过于依赖数据集本身，而对数据集之外的样本缺乏泛化能力。  \n",
    "\n",
    "*我通过将数据集划分为训练数据与测试数据，在使用训练数据训练模型后，再使用测试数据验证模型。"
   ]
  },
  {
   "cell_type": "markdown",
   "metadata": {},
   "source": [
    "### 6.\t给出至少 2 个评估度量并说明每个的平均性能。解释对用简单的语言表明算法性能的度量的解读。【相关标准项：“评估度量的使用”】"
   ]
  },
  {
   "cell_type": "markdown",
   "metadata": {},
   "source": [
    "最终选用的朴素贝叶斯模型，测试后的数据如下：  \n",
    "Accuracy: 0.83267\t\n",
    "Precision: 0.35378\t\n",
    "Recall: 0.30850\t \n",
    "F1: 0.32959\t \n",
    "F2: 0.31661  \n",
    "\n",
    "Total predictions: 15000\t\n",
    "True positives:  617\t\n",
    "False positives: 1127\t\n",
    "False negatives: 1383\t\n",
    "True negatives: 11873\n"
   ]
  },
  {
   "cell_type": "markdown",
   "metadata": {},
   "source": [
    "在本项目中：\n",
    "TP 表示实际是POI且被模型认为是POI的个数；  \n",
    "FP 表示实际不是POI但被模型错误认为是POI的个数；  \n",
    "FN 表示实际是POI但被模型错误认为是POI的个数； \n",
    "TN 表示实际不是POI且被模型认为不是POI的个数。  \n",
    "Precision = TP / (TP+FP)， 表示被模型猜测为POI的对象中，实际确实是POI的占比;  \n",
    "Recall = TP / (TP+NF) ，表示实际是POI的对象，有多少被模型正确判断为POI;  \n"
   ]
  }
 ],
 "metadata": {
  "kernelspec": {
   "display_name": "Python 2",
   "language": "python",
   "name": "python2"
  },
  "language_info": {
   "codemirror_mode": {
    "name": "ipython",
    "version": 2
   },
   "file_extension": ".py",
   "mimetype": "text/x-python",
   "name": "python",
   "nbconvert_exporter": "python",
   "pygments_lexer": "ipython2",
   "version": "2.7.13"
  }
 },
 "nbformat": 4,
 "nbformat_minor": 2
}
